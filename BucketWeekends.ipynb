{
 "cells": [
  {
   "cell_type": "code",
   "execution_count": 37,
   "metadata": {},
   "outputs": [],
   "source": [
    "import pandas as pd\n",
    "from pathlib import Path\n",
    "from datetime import datetime, timedelta\n",
    "from dateutil.parser import parse"
   ]
  },
  {
   "cell_type": "code",
   "execution_count": 43,
   "metadata": {},
   "outputs": [],
   "source": [
    "def is_date(string, fuzzy=False):\n",
    "    \"\"\"\n",
    "    Return whether the string can be interpreted as a date.\n",
    "\n",
    "    :param string: str, string to check for date\n",
    "    :param fuzzy: bool, ignore unknown tokens in string if True\n",
    "    \"\"\"\n",
    "    try: \n",
    "        parse(string, fuzzy=fuzzy)\n",
    "        return True\n",
    "\n",
    "    except (ValueError, TypeError):\n",
    "        return False"
   ]
  },
  {
   "cell_type": "code",
   "execution_count": 44,
   "metadata": {},
   "outputs": [],
   "source": [
    "# bucket news first\n",
    "news_dir = Path('data/in/news/')\n",
    "bucket_news_dir = Path('data/bucket/news/')\n",
    "bucket_news_dir.mkdir(exist_ok=True, parents=True)\n",
    "\n",
    "# get file paths\n",
    "files = list(news_dir.rglob('*.csv'))\n",
    "for file in files:\n",
    "    # load file\n",
    "    df = pd.read_csv(file)\n",
    "    \n",
    "    # iterate over rows\n",
    "    for index, row in df.iterrows():\n",
    "        date = row['Date']\n",
    "        \n",
    "        # drop rows with no dates\n",
    "        if not is_date(date):\n",
    "            df.drop(index, inplace=True)\n",
    "            continue\n",
    "            \n",
    "        date_time_obj = datetime.strptime(date, '%Y-%m-%d')\n",
    "        day_no = date_time_obj.weekday()\n",
    "        \n",
    "        # if weekend, subtract days to make it Friday\n",
    "        if day_no  == 5:\n",
    "            new_date = date_time_obj - timedelta(days=1)\n",
    "            row['Date'] = new_date.strftime('%Y-%m-%d')\n",
    "        elif day_no == 6:\n",
    "            new_date = date_time_obj - timedelta(days=2)\n",
    "            row['Date'] = new_date.strftime('%Y-%m-%d')\n",
    "            \n",
    "    # save new file\n",
    "    df.to_csv(Path(bucket_news_dir, file.name), index=False)"
   ]
  },
  {
   "cell_type": "code",
   "execution_count": null,
   "metadata": {},
   "outputs": [],
   "source": [
    "# bucket tweets"
   ]
  }
 ],
 "metadata": {
  "kernelspec": {
   "display_name": "Python 3",
   "language": "python",
   "name": "python3"
  },
  "language_info": {
   "codemirror_mode": {
    "name": "ipython",
    "version": 3
   },
   "file_extension": ".py",
   "mimetype": "text/x-python",
   "name": "python",
   "nbconvert_exporter": "python",
   "pygments_lexer": "ipython3",
   "version": "3.7.2"
  }
 },
 "nbformat": 4,
 "nbformat_minor": 2
}
