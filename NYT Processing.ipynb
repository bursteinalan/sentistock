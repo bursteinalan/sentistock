{
 "cells": [
  {
   "cell_type": "code",
   "execution_count": 20,
   "metadata": {
    "collapsed": true
   },
   "outputs": [],
   "source": [
    "import pandas as pd\n",
    "import glob\n",
    "import math"
   ]
  },
  {
   "cell_type": "code",
   "execution_count": 2,
   "metadata": {
    "collapsed": true
   },
   "outputs": [],
   "source": [
    "data_dir = 'data/nyt/'\n",
    "output_dir = 'data/in/news/'"
   ]
  },
  {
   "cell_type": "code",
   "execution_count": 3,
   "metadata": {
    "collapsed": true
   },
   "outputs": [],
   "source": [
    "all_files = glob.glob(data_dir + \"/*.csv\")"
   ]
  },
  {
   "cell_type": "code",
   "execution_count": 4,
   "metadata": {
    "collapsed": true
   },
   "outputs": [],
   "source": [
    "li = []\n",
    "\n",
    "for filename in all_files:\n",
    "    df = pd.read_csv(filename, header=0)\n",
    "    li.append(df)\n",
    "\n",
    "frame = pd.concat(li, axis=0, ignore_index=True)"
   ]
  },
  {
   "cell_type": "code",
   "execution_count": 5,
   "metadata": {
    "collapsed": true
   },
   "outputs": [],
   "source": [
    "df = frame[['pub_date','headline']]"
   ]
  },
  {
   "cell_type": "code",
   "execution_count": 6,
   "metadata": {},
   "outputs": [
    {
     "data": {
      "text/html": [
       "<div>\n",
       "<style scoped>\n",
       "    .dataframe tbody tr th:only-of-type {\n",
       "        vertical-align: middle;\n",
       "    }\n",
       "\n",
       "    .dataframe tbody tr th {\n",
       "        vertical-align: top;\n",
       "    }\n",
       "\n",
       "    .dataframe thead th {\n",
       "        text-align: right;\n",
       "    }\n",
       "</style>\n",
       "<table border=\"1\" class=\"dataframe\">\n",
       "  <thead>\n",
       "    <tr style=\"text-align: right;\">\n",
       "      <th></th>\n",
       "      <th>pub_date</th>\n",
       "      <th>headline</th>\n",
       "    </tr>\n",
       "  </thead>\n",
       "  <tbody>\n",
       "    <tr>\n",
       "      <td>0</td>\n",
       "      <td>2016-10-01T04:00:00+0000</td>\n",
       "      <td>Donald Trump’s Letter</td>\n",
       "    </tr>\n",
       "    <tr>\n",
       "      <td>1</td>\n",
       "      <td>2016-10-01T21:12:35+0000</td>\n",
       "      <td>A Rabbi’s Enduring Sermon on Living Your Last ...</td>\n",
       "    </tr>\n",
       "    <tr>\n",
       "      <td>2</td>\n",
       "      <td>2016-10-01T04:00:00+0000</td>\n",
       "      <td>Nina Ricci: Spring 2017</td>\n",
       "    </tr>\n",
       "    <tr>\n",
       "      <td>3</td>\n",
       "      <td>2016-10-01T04:00:00+0000</td>\n",
       "      <td>How to Get Nina Ricci’s Sultry Slicked-Back Hair</td>\n",
       "    </tr>\n",
       "    <tr>\n",
       "      <td>4</td>\n",
       "      <td>2016-10-01T19:53:16+0000</td>\n",
       "      <td>For Orchestras in the U.S., So Much Depends on...</td>\n",
       "    </tr>\n",
       "    <tr>\n",
       "      <td>...</td>\n",
       "      <td>...</td>\n",
       "      <td>...</td>\n",
       "    </tr>\n",
       "    <tr>\n",
       "      <td>386336</td>\n",
       "      <td>2019-04-29T15:00:06+0000</td>\n",
       "      <td>How to Fight India’s Fake-News Epidemic</td>\n",
       "    </tr>\n",
       "    <tr>\n",
       "      <td>386337</td>\n",
       "      <td>2019-04-30T09:00:08+0000</td>\n",
       "      <td>Oliver Sacks’s Final, Posthumous Work</td>\n",
       "    </tr>\n",
       "    <tr>\n",
       "      <td>386338</td>\n",
       "      <td>2019-05-01T00:15:33+0000</td>\n",
       "      <td>It’s Infrastructure Week!</td>\n",
       "    </tr>\n",
       "    <tr>\n",
       "      <td>386339</td>\n",
       "      <td>2019-04-30T23:28:13+0000</td>\n",
       "      <td>Venezuelan Opposition Leader Steps Up Pressure...</td>\n",
       "    </tr>\n",
       "    <tr>\n",
       "      <td>386340</td>\n",
       "      <td>2019-04-30T09:00:11+0000</td>\n",
       "      <td>How Does Your Love of Wine Contribute to Clima...</td>\n",
       "    </tr>\n",
       "  </tbody>\n",
       "</table>\n",
       "<p>386341 rows × 2 columns</p>\n",
       "</div>"
      ],
      "text/plain": [
       "                        pub_date  \\\n",
       "0       2016-10-01T04:00:00+0000   \n",
       "1       2016-10-01T21:12:35+0000   \n",
       "2       2016-10-01T04:00:00+0000   \n",
       "3       2016-10-01T04:00:00+0000   \n",
       "4       2016-10-01T19:53:16+0000   \n",
       "...                          ...   \n",
       "386336  2019-04-29T15:00:06+0000   \n",
       "386337  2019-04-30T09:00:08+0000   \n",
       "386338  2019-05-01T00:15:33+0000   \n",
       "386339  2019-04-30T23:28:13+0000   \n",
       "386340  2019-04-30T09:00:11+0000   \n",
       "\n",
       "                                                 headline  \n",
       "0                                   Donald Trump’s Letter  \n",
       "1       A Rabbi’s Enduring Sermon on Living Your Last ...  \n",
       "2                                 Nina Ricci: Spring 2017  \n",
       "3        How to Get Nina Ricci’s Sultry Slicked-Back Hair  \n",
       "4       For Orchestras in the U.S., So Much Depends on...  \n",
       "...                                                   ...  \n",
       "386336            How to Fight India’s Fake-News Epidemic  \n",
       "386337              Oliver Sacks’s Final, Posthumous Work  \n",
       "386338                          It’s Infrastructure Week!  \n",
       "386339  Venezuelan Opposition Leader Steps Up Pressure...  \n",
       "386340  How Does Your Love of Wine Contribute to Clima...  \n",
       "\n",
       "[386341 rows x 2 columns]"
      ]
     },
     "execution_count": 6,
     "metadata": {},
     "output_type": "execute_result"
    }
   ],
   "source": [
    "df"
   ]
  },
  {
   "cell_type": "code",
   "execution_count": 7,
   "metadata": {
    "collapsed": true
   },
   "outputs": [],
   "source": [
    "df = df.rename(columns={'pub_date':'Date', 'headline':'title'})"
   ]
  },
  {
   "cell_type": "code",
   "execution_count": 8,
   "metadata": {
    "collapsed": true
   },
   "outputs": [],
   "source": [
    "df['Date'] = pd.to_datetime(df['Date']).dt.normalize()"
   ]
  },
  {
   "cell_type": "code",
   "execution_count": 9,
   "metadata": {
    "collapsed": true
   },
   "outputs": [],
   "source": [
    "df = df.sort_values(by='Date')"
   ]
  },
  {
   "cell_type": "code",
   "execution_count": 10,
   "metadata": {
    "collapsed": true
   },
   "outputs": [],
   "source": [
    "df.to_csv(output_dir+'NYT_ALL.csv', index=False)"
   ]
  },
  {
   "cell_type": "code",
   "execution_count": 22,
   "metadata": {},
   "outputs": [
    {
     "data": {
      "text/html": [
       "<div>\n",
       "<style scoped>\n",
       "    .dataframe tbody tr th:only-of-type {\n",
       "        vertical-align: middle;\n",
       "    }\n",
       "\n",
       "    .dataframe tbody tr th {\n",
       "        vertical-align: top;\n",
       "    }\n",
       "\n",
       "    .dataframe thead th {\n",
       "        text-align: right;\n",
       "    }\n",
       "</style>\n",
       "<table border=\"1\" class=\"dataframe\">\n",
       "  <thead>\n",
       "    <tr style=\"text-align: right;\">\n",
       "      <th></th>\n",
       "      <th>Date</th>\n",
       "      <th>title</th>\n",
       "    </tr>\n",
       "  </thead>\n",
       "  <tbody>\n",
       "    <tr>\n",
       "      <td>27663</td>\n",
       "      <td>2017-10-10 00:00:00+00:00</td>\n",
       "      <td>NaN</td>\n",
       "    </tr>\n",
       "    <tr>\n",
       "      <td>248475</td>\n",
       "      <td>2019-02-07 00:00:00+00:00</td>\n",
       "      <td>NaN</td>\n",
       "    </tr>\n",
       "    <tr>\n",
       "      <td>248800</td>\n",
       "      <td>2019-02-07 00:00:00+00:00</td>\n",
       "      <td>NaN</td>\n",
       "    </tr>\n",
       "    <tr>\n",
       "      <td>247958</td>\n",
       "      <td>2019-02-07 00:00:00+00:00</td>\n",
       "      <td>NaN</td>\n",
       "    </tr>\n",
       "    <tr>\n",
       "      <td>247868</td>\n",
       "      <td>2019-02-07 00:00:00+00:00</td>\n",
       "      <td>NaN</td>\n",
       "    </tr>\n",
       "    <tr>\n",
       "      <td>...</td>\n",
       "      <td>...</td>\n",
       "      <td>...</td>\n",
       "    </tr>\n",
       "    <tr>\n",
       "      <td>232561</td>\n",
       "      <td>2019-08-29 00:00:00+00:00</td>\n",
       "      <td>NaN</td>\n",
       "    </tr>\n",
       "    <tr>\n",
       "      <td>232555</td>\n",
       "      <td>2019-08-29 00:00:00+00:00</td>\n",
       "      <td>NaN</td>\n",
       "    </tr>\n",
       "    <tr>\n",
       "      <td>232562</td>\n",
       "      <td>2019-08-29 00:00:00+00:00</td>\n",
       "      <td>NaN</td>\n",
       "    </tr>\n",
       "    <tr>\n",
       "      <td>232243</td>\n",
       "      <td>2019-08-29 00:00:00+00:00</td>\n",
       "      <td>NaN</td>\n",
       "    </tr>\n",
       "    <tr>\n",
       "      <td>232028</td>\n",
       "      <td>2019-08-29 00:00:00+00:00</td>\n",
       "      <td>NaN</td>\n",
       "    </tr>\n",
       "  </tbody>\n",
       "</table>\n",
       "<p>335 rows × 2 columns</p>\n",
       "</div>"
      ],
      "text/plain": [
       "                            Date title\n",
       "27663  2017-10-10 00:00:00+00:00   NaN\n",
       "248475 2019-02-07 00:00:00+00:00   NaN\n",
       "248800 2019-02-07 00:00:00+00:00   NaN\n",
       "247958 2019-02-07 00:00:00+00:00   NaN\n",
       "247868 2019-02-07 00:00:00+00:00   NaN\n",
       "...                          ...   ...\n",
       "232561 2019-08-29 00:00:00+00:00   NaN\n",
       "232555 2019-08-29 00:00:00+00:00   NaN\n",
       "232562 2019-08-29 00:00:00+00:00   NaN\n",
       "232243 2019-08-29 00:00:00+00:00   NaN\n",
       "232028 2019-08-29 00:00:00+00:00   NaN\n",
       "\n",
       "[335 rows x 2 columns]"
      ]
     },
     "execution_count": 22,
     "metadata": {},
     "output_type": "execute_result"
    }
   ],
   "source": [
    "df[df['title'] != df['title']]"
   ]
  },
  {
   "cell_type": "code",
   "execution_count": null,
   "metadata": {
    "collapsed": true
   },
   "outputs": [],
   "source": []
  }
 ],
 "metadata": {
  "kernelspec": {
   "display_name": "Python 3",
   "language": "python",
   "name": "python3"
  },
  "language_info": {
   "codemirror_mode": {
    "name": "ipython",
    "version": 3
   },
   "file_extension": ".py",
   "mimetype": "text/x-python",
   "name": "python",
   "nbconvert_exporter": "python",
   "pygments_lexer": "ipython3",
   "version": "3.6.2"
  }
 },
 "nbformat": 4,
 "nbformat_minor": 2
}
