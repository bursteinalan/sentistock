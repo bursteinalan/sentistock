{
 "cells": [
  {
   "cell_type": "code",
   "execution_count": 4,
   "metadata": {
    "collapsed": true
   },
   "outputs": [],
   "source": [
    "import pandas as pd"
   ]
  },
  {
   "cell_type": "code",
   "execution_count": 9,
   "metadata": {
    "collapsed": true
   },
   "outputs": [],
   "source": [
    "stock_dir = 'data/out/'"
   ]
  },
  {
   "cell_type": "code",
   "execution_count": 27,
   "metadata": {
    "collapsed": true
   },
   "outputs": [],
   "source": [
    "stocks = ['VIX','SPY']"
   ]
  },
  {
   "cell_type": "code",
   "execution_count": 11,
   "metadata": {
    "collapsed": true
   },
   "outputs": [],
   "source": [
    "def posOrNeg(val):\n",
    "    if val>0:\n",
    "        return 1\n",
    "    elif val<0:\n",
    "        return -1\n",
    "    else:\n",
    "        return 0"
   ]
  },
  {
   "cell_type": "code",
   "execution_count": 22,
   "metadata": {
    "collapsed": true
   },
   "outputs": [],
   "source": [
    "def bigPosOrNeg(val):\n",
    "    if val>0.01:\n",
    "        return 1\n",
    "    elif val<-0.01:\n",
    "        return -1\n",
    "    else:\n",
    "        return 0"
   ]
  },
  {
   "cell_type": "code",
   "execution_count": 31,
   "metadata": {},
   "outputs": [],
   "source": [
    "for stock in stocks:\n",
    "    df = pd.read_csv(stock_dir+stock+'.csv', parse_dates=['Date'])\n",
    "    df['Lag 2 Price'] = df['Price'].shift(-2)\n",
    "    df['Lag 2 Change'] = (df['Lag 2 Price'] - df['Price'])/df['Price']\n",
    "    df['Lag 2 Direction'] = df['Lag 2 Change'].apply(posOrNeg)\n",
    "    df['Lag 2 Significant'] = df['Lag 2 Change'].apply(bigPosOrNeg)\n",
    "    df.to_csv(stock_dir+stock+'_Predict.csv', index=False)"
   ]
  },
  {
   "cell_type": "code",
   "execution_count": 32,
   "metadata": {},
   "outputs": [],
   "source": [
    "data_VIX['Lag 2 Price'] = data_VIX['Price'].shift(-2)\n",
    "data_VIX['2 Day Change'] = (data_VIX['Lag 2 Price'] - data_VIX['Price'])/data_VIX['Price']\n",
    "data_VIX['2 Day Direction'] = data_VIX['2 Day Change'].apply(posOrNeg)\n",
    "data_VIX['2 Day Significant'] = data_VIX['2 Day Change'].apply(bigPosOrNeg)"
   ]
  },
  {
   "cell_type": "code",
   "execution_count": 33,
   "metadata": {},
   "outputs": [
    {
     "data": {
      "text/plain": [
       "-1    2331\n",
       " 1    2136\n",
       " 0     547\n",
       "Name: 2 Day Significant, dtype: int64"
      ]
     },
     "execution_count": 33,
     "metadata": {},
     "output_type": "execute_result"
    }
   ],
   "source": [
    "data_VIX['2 Day Significant'].value_counts()"
   ]
  },
  {
   "cell_type": "code",
   "execution_count": 14,
   "metadata": {},
   "outputs": [
    {
     "data": {
      "text/html": [
       "<div>\n",
       "<style scoped>\n",
       "    .dataframe tbody tr th:only-of-type {\n",
       "        vertical-align: middle;\n",
       "    }\n",
       "\n",
       "    .dataframe tbody tr th {\n",
       "        vertical-align: top;\n",
       "    }\n",
       "\n",
       "    .dataframe thead th {\n",
       "        text-align: right;\n",
       "    }\n",
       "</style>\n",
       "<table border=\"1\" class=\"dataframe\">\n",
       "  <thead>\n",
       "    <tr style=\"text-align: right;\">\n",
       "      <th></th>\n",
       "      <th>Date</th>\n",
       "      <th>Price</th>\n",
       "      <th>Change</th>\n",
       "      <th>Lag 2 Price</th>\n",
       "      <th>2 Day Change</th>\n",
       "      <th>2 Day Direction</th>\n",
       "      <th>2 Day Significant</th>\n",
       "    </tr>\n",
       "  </thead>\n",
       "  <tbody>\n",
       "    <tr>\n",
       "      <td>0</td>\n",
       "      <td>2000-01-03</td>\n",
       "      <td>24.36</td>\n",
       "      <td>NaN</td>\n",
       "      <td>27.98</td>\n",
       "      <td>0.148604</td>\n",
       "      <td>1</td>\n",
       "      <td>1</td>\n",
       "    </tr>\n",
       "    <tr>\n",
       "      <td>1</td>\n",
       "      <td>2000-01-04</td>\n",
       "      <td>24.94</td>\n",
       "      <td>0.023810</td>\n",
       "      <td>26.68</td>\n",
       "      <td>0.069767</td>\n",
       "      <td>1</td>\n",
       "      <td>0</td>\n",
       "    </tr>\n",
       "    <tr>\n",
       "      <td>2</td>\n",
       "      <td>2000-01-05</td>\n",
       "      <td>27.98</td>\n",
       "      <td>0.121893</td>\n",
       "      <td>25.14</td>\n",
       "      <td>-0.101501</td>\n",
       "      <td>-1</td>\n",
       "      <td>-1</td>\n",
       "    </tr>\n",
       "    <tr>\n",
       "      <td>3</td>\n",
       "      <td>2000-01-06</td>\n",
       "      <td>26.68</td>\n",
       "      <td>-0.046462</td>\n",
       "      <td>21.89</td>\n",
       "      <td>-0.179535</td>\n",
       "      <td>-1</td>\n",
       "      <td>-1</td>\n",
       "    </tr>\n",
       "    <tr>\n",
       "      <td>4</td>\n",
       "      <td>2000-01-07</td>\n",
       "      <td>25.14</td>\n",
       "      <td>-0.057721</td>\n",
       "      <td>21.98</td>\n",
       "      <td>-0.125696</td>\n",
       "      <td>-1</td>\n",
       "      <td>-1</td>\n",
       "    </tr>\n",
       "    <tr>\n",
       "      <td>...</td>\n",
       "      <td>...</td>\n",
       "      <td>...</td>\n",
       "      <td>...</td>\n",
       "      <td>...</td>\n",
       "      <td>...</td>\n",
       "      <td>...</td>\n",
       "      <td>...</td>\n",
       "    </tr>\n",
       "    <tr>\n",
       "      <td>5009</td>\n",
       "      <td>2019-11-29</td>\n",
       "      <td>12.50</td>\n",
       "      <td>0.082251</td>\n",
       "      <td>14.68</td>\n",
       "      <td>0.174400</td>\n",
       "      <td>1</td>\n",
       "      <td>1</td>\n",
       "    </tr>\n",
       "    <tr>\n",
       "      <td>5010</td>\n",
       "      <td>2019-12-02</td>\n",
       "      <td>12.69</td>\n",
       "      <td>0.015200</td>\n",
       "      <td>16.38</td>\n",
       "      <td>0.290780</td>\n",
       "      <td>1</td>\n",
       "      <td>1</td>\n",
       "    </tr>\n",
       "    <tr>\n",
       "      <td>5011</td>\n",
       "      <td>2019-12-03</td>\n",
       "      <td>14.68</td>\n",
       "      <td>0.156816</td>\n",
       "      <td>14.46</td>\n",
       "      <td>-0.014986</td>\n",
       "      <td>-1</td>\n",
       "      <td>0</td>\n",
       "    </tr>\n",
       "    <tr>\n",
       "      <td>5012</td>\n",
       "      <td>2019-12-04</td>\n",
       "      <td>16.38</td>\n",
       "      <td>0.115804</td>\n",
       "      <td>NaN</td>\n",
       "      <td>NaN</td>\n",
       "      <td>0</td>\n",
       "      <td>0</td>\n",
       "    </tr>\n",
       "    <tr>\n",
       "      <td>5013</td>\n",
       "      <td>2019-12-05</td>\n",
       "      <td>14.46</td>\n",
       "      <td>-0.117216</td>\n",
       "      <td>NaN</td>\n",
       "      <td>NaN</td>\n",
       "      <td>0</td>\n",
       "      <td>0</td>\n",
       "    </tr>\n",
       "  </tbody>\n",
       "</table>\n",
       "<p>5014 rows × 7 columns</p>\n",
       "</div>"
      ],
      "text/plain": [
       "           Date  Price    Change  Lag 2 Price  2 Day Change  2 Day Direction  \\\n",
       "0    2000-01-03  24.36       NaN        27.98      0.148604                1   \n",
       "1    2000-01-04  24.94  0.023810        26.68      0.069767                1   \n",
       "2    2000-01-05  27.98  0.121893        25.14     -0.101501               -1   \n",
       "3    2000-01-06  26.68 -0.046462        21.89     -0.179535               -1   \n",
       "4    2000-01-07  25.14 -0.057721        21.98     -0.125696               -1   \n",
       "...         ...    ...       ...          ...           ...              ...   \n",
       "5009 2019-11-29  12.50  0.082251        14.68      0.174400                1   \n",
       "5010 2019-12-02  12.69  0.015200        16.38      0.290780                1   \n",
       "5011 2019-12-03  14.68  0.156816        14.46     -0.014986               -1   \n",
       "5012 2019-12-04  16.38  0.115804          NaN           NaN                0   \n",
       "5013 2019-12-05  14.46 -0.117216          NaN           NaN                0   \n",
       "\n",
       "      2 Day Significant  \n",
       "0                     1  \n",
       "1                     0  \n",
       "2                    -1  \n",
       "3                    -1  \n",
       "4                    -1  \n",
       "...                 ...  \n",
       "5009                  1  \n",
       "5010                  1  \n",
       "5011                  0  \n",
       "5012                  0  \n",
       "5013                  0  \n",
       "\n",
       "[5014 rows x 7 columns]"
      ]
     },
     "execution_count": 14,
     "metadata": {},
     "output_type": "execute_result"
    }
   ],
   "source": [
    "data_VIX"
   ]
  },
  {
   "cell_type": "code",
   "execution_count": 25,
   "metadata": {
    "collapsed": true
   },
   "outputs": [],
   "source": [
    "data_VIX.to_csv(stock_dir+'VIX_Future.csv', index=False)"
   ]
  },
  {
   "cell_type": "code",
   "execution_count": null,
   "metadata": {
    "collapsed": true
   },
   "outputs": [],
   "source": []
  }
 ],
 "metadata": {
  "kernelspec": {
   "display_name": "Python 3",
   "language": "python",
   "name": "python3"
  },
  "language_info": {
   "codemirror_mode": {
    "name": "ipython",
    "version": 3
   },
   "file_extension": ".py",
   "mimetype": "text/x-python",
   "name": "python",
   "nbconvert_exporter": "python",
   "pygments_lexer": "ipython3",
   "version": "3.7.2"
  }
 },
 "nbformat": 4,
 "nbformat_minor": 2
}
