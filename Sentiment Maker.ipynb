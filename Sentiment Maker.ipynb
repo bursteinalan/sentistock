{
 "cells": [
  {
   "cell_type": "code",
   "execution_count": 10,
   "metadata": {
    "collapsed": true
   },
   "outputs": [],
   "source": [
    "from vaderSentiment.vaderSentiment import SentimentIntensityAnalyzer\n",
    "import pandas as pd"
   ]
  },
  {
   "cell_type": "code",
   "execution_count": 11,
   "metadata": {
    "collapsed": true
   },
   "outputs": [],
   "source": [
    "analyser = SentimentIntensityAnalyzer()"
   ]
  },
  {
   "cell_type": "code",
   "execution_count": 18,
   "metadata": {
    "collapsed": true
   },
   "outputs": [],
   "source": [
    "news_dir = 'data/in/news/'\n",
    "twitter_dir = 'data/in/twitter/'\n",
    "influencers = ['BarackObama','cnnbrk', 'KimKardashian']\n",
    "sources = ['New York Times', 'CNN', 'Washington Post']"
   ]
  },
  {
   "cell_type": "code",
   "execution_count": 19,
   "metadata": {
    "collapsed": true
   },
   "outputs": [],
   "source": [
    "def sentiment_analyzer_scores(sentence):\n",
    "    try:\n",
    "        score = analyser.polarity_scores(sentence)\n",
    "        return score['compound']\n",
    "    except:\n",
    "        print('Failed to score content:',sentence)\n",
    "        return 0\n",
    "    \n",
    "#     print(\"{:-<40} {}\".format(sentence, str(score)))"
   ]
  },
  {
   "cell_type": "code",
   "execution_count": 20,
   "metadata": {
    "collapsed": true
   },
   "outputs": [],
   "source": [
    "#TODO ADD CUSTOM HEURISTICS"
   ]
  },
  {
   "cell_type": "code",
   "execution_count": 21,
   "metadata": {
    "collapsed": true
   },
   "outputs": [],
   "source": [
    "def sentimentTwiiter(influencers):\n",
    "    for influencer in influencers:\n",
    "        df = pd.read_csv(twitter_dir+influencer+'.csv', parse_dates=['Date'])\n",
    "        df['sentiment_score'] = df['content'].apply(sentiment_analyzer_scores)\n",
    "        df.to_csv(twitter_dir+influencer+'.csv', index=False)\n",
    "    print('done')"
   ]
  },
  {
   "cell_type": "code",
   "execution_count": 22,
   "metadata": {
    "collapsed": true
   },
   "outputs": [],
   "source": [
    "def sentimentNews(sources):\n",
    "    for source in sources:\n",
    "        df = pd.read_csv(news_dir+source+'.csv', parse_dates=['Date'])\n",
    "        df['sentiment_score'] = df['title'].apply(sentiment_analyzer_scores)\n",
    "        df.to_csv(news_dir+source+'.csv', index=False)\n",
    "    print('done')"
   ]
  },
  {
   "cell_type": "code",
   "execution_count": 23,
   "metadata": {},
   "outputs": [
    {
     "name": "stdout",
     "output_type": "stream",
     "text": [
      "done\n",
      "Failed to score content: nan\n",
      "done\n"
     ]
    }
   ],
   "source": [
    "#AUTOMATION\n",
    "sentimentTwiiter(influencers)\n",
    "sentimentNews(sources)"
   ]
  },
  {
   "cell_type": "code",
   "execution_count": 33,
   "metadata": {
    "collapsed": true
   },
   "outputs": [],
   "source": [
    "df2 = pd.read_csv('BarackObama.csv', parse_dates=['Date'])\n"
   ]
  },
  {
   "cell_type": "code",
   "execution_count": 34,
   "metadata": {},
   "outputs": [
    {
     "data": {
      "text/html": [
       "<div>\n",
       "<style scoped>\n",
       "    .dataframe tbody tr th:only-of-type {\n",
       "        vertical-align: middle;\n",
       "    }\n",
       "\n",
       "    .dataframe tbody tr th {\n",
       "        vertical-align: top;\n",
       "    }\n",
       "\n",
       "    .dataframe thead th {\n",
       "        text-align: right;\n",
       "    }\n",
       "</style>\n",
       "<table border=\"1\" class=\"dataframe\">\n",
       "  <thead>\n",
       "    <tr style=\"text-align: right;\">\n",
       "      <th></th>\n",
       "      <th>Date</th>\n",
       "      <th>author</th>\n",
       "      <th>content</th>\n",
       "      <th>number_of_likes</th>\n",
       "      <th>number_of_shares</th>\n",
       "    </tr>\n",
       "  </thead>\n",
       "  <tbody>\n",
       "    <tr>\n",
       "      <td>0</td>\n",
       "      <td>2014-01-08 14:57:00</td>\n",
       "      <td>BarackObama</td>\n",
       "      <td>Make #53 special for #44: http://t.co/leGTnedv...</td>\n",
       "      <td>1512</td>\n",
       "      <td>726</td>\n",
       "    </tr>\n",
       "    <tr>\n",
       "      <td>1</td>\n",
       "      <td>2014-01-08 17:58:00</td>\n",
       "      <td>BarackObama</td>\n",
       "      <td>Job growth has exceeded 200,000 for the sixth ...</td>\n",
       "      <td>816</td>\n",
       "      <td>556</td>\n",
       "    </tr>\n",
       "    <tr>\n",
       "      <td>2</td>\n",
       "      <td>2014-01-08 18:46:00</td>\n",
       "      <td>BarackObama</td>\n",
       "      <td>Happening now: President Obama delivers a stat...</td>\n",
       "      <td>491</td>\n",
       "      <td>288</td>\n",
       "    </tr>\n",
       "    <tr>\n",
       "      <td>3</td>\n",
       "      <td>2014-01-08 18:54:00</td>\n",
       "      <td>BarackObama</td>\n",
       "      <td>\"That's the longest streak of private sector j...</td>\n",
       "      <td>804</td>\n",
       "      <td>619</td>\n",
       "    </tr>\n",
       "    <tr>\n",
       "      <td>4</td>\n",
       "      <td>2014-01-08 18:57:00</td>\n",
       "      <td>BarackObama</td>\n",
       "      <td>\"The fact is we could be much further along .....</td>\n",
       "      <td>1505</td>\n",
       "      <td>1260</td>\n",
       "    </tr>\n",
       "    <tr>\n",
       "      <td>...</td>\n",
       "      <td>...</td>\n",
       "      <td>...</td>\n",
       "      <td>...</td>\n",
       "      <td>...</td>\n",
       "      <td>...</td>\n",
       "    </tr>\n",
       "    <tr>\n",
       "      <td>2858</td>\n",
       "      <td>2016-12-10 16:35:00</td>\n",
       "      <td>BarackObama</td>\n",
       "      <td>Let's leave our children and grandchildren a p...</td>\n",
       "      <td>12072</td>\n",
       "      <td>3692</td>\n",
       "    </tr>\n",
       "    <tr>\n",
       "      <td>2859</td>\n",
       "      <td>2016-12-10 17:57:00</td>\n",
       "      <td>BarackObama</td>\n",
       "      <td>Last week, more than 190 countries reached a l...</td>\n",
       "      <td>3283</td>\n",
       "      <td>855</td>\n",
       "    </tr>\n",
       "    <tr>\n",
       "      <td>2860</td>\n",
       "      <td>2016-12-10 19:43:00</td>\n",
       "      <td>BarackObama</td>\n",
       "      <td>Support the bold steps we're taking against cl...</td>\n",
       "      <td>1979</td>\n",
       "      <td>496</td>\n",
       "    </tr>\n",
       "    <tr>\n",
       "      <td>2861</td>\n",
       "      <td>2016-12-10 21:02:00</td>\n",
       "      <td>BarackObama</td>\n",
       "      <td>LIVE: President Obama is speaking at a recepti...</td>\n",
       "      <td>1931</td>\n",
       "      <td>468</td>\n",
       "    </tr>\n",
       "    <tr>\n",
       "      <td>2862</td>\n",
       "      <td>2017-10-01 23:44:00</td>\n",
       "      <td>BarackObama</td>\n",
       "      <td>Tonight, President Obama reflects on eight yea...</td>\n",
       "      <td>38884</td>\n",
       "      <td>9568</td>\n",
       "    </tr>\n",
       "  </tbody>\n",
       "</table>\n",
       "<p>2863 rows × 5 columns</p>\n",
       "</div>"
      ],
      "text/plain": [
       "                    Date       author  \\\n",
       "0    2014-01-08 14:57:00  BarackObama   \n",
       "1    2014-01-08 17:58:00  BarackObama   \n",
       "2    2014-01-08 18:46:00  BarackObama   \n",
       "3    2014-01-08 18:54:00  BarackObama   \n",
       "4    2014-01-08 18:57:00  BarackObama   \n",
       "...                  ...          ...   \n",
       "2858 2016-12-10 16:35:00  BarackObama   \n",
       "2859 2016-12-10 17:57:00  BarackObama   \n",
       "2860 2016-12-10 19:43:00  BarackObama   \n",
       "2861 2016-12-10 21:02:00  BarackObama   \n",
       "2862 2017-10-01 23:44:00  BarackObama   \n",
       "\n",
       "                                                content  number_of_likes  \\\n",
       "0     Make #53 special for #44: http://t.co/leGTnedv...             1512   \n",
       "1     Job growth has exceeded 200,000 for the sixth ...              816   \n",
       "2     Happening now: President Obama delivers a stat...              491   \n",
       "3     \"That's the longest streak of private sector j...              804   \n",
       "4     \"The fact is we could be much further along .....             1505   \n",
       "...                                                 ...              ...   \n",
       "2858  Let's leave our children and grandchildren a p...            12072   \n",
       "2859  Last week, more than 190 countries reached a l...             3283   \n",
       "2860  Support the bold steps we're taking against cl...             1979   \n",
       "2861  LIVE: President Obama is speaking at a recepti...             1931   \n",
       "2862  Tonight, President Obama reflects on eight yea...            38884   \n",
       "\n",
       "      number_of_shares  \n",
       "0                  726  \n",
       "1                  556  \n",
       "2                  288  \n",
       "3                  619  \n",
       "4                 1260  \n",
       "...                ...  \n",
       "2858              3692  \n",
       "2859               855  \n",
       "2860               496  \n",
       "2861               468  \n",
       "2862              9568  \n",
       "\n",
       "[2863 rows x 5 columns]"
      ]
     },
     "execution_count": 34,
     "metadata": {},
     "output_type": "execute_result"
    }
   ],
   "source": [
    "df2"
   ]
  },
  {
   "cell_type": "code",
   "execution_count": 26,
   "metadata": {
    "collapsed": true
   },
   "outputs": [],
   "source": [
    "df = pd.read_csv('New York Times.csv', parse_dates=['Date'])"
   ]
  },
  {
   "cell_type": "code",
   "execution_count": 27,
   "metadata": {
    "collapsed": true
   },
   "outputs": [],
   "source": [
    "df['Score'] = df['title'].apply(sentiment_analyzer_scores)"
   ]
  },
  {
   "cell_type": "code",
   "execution_count": 28,
   "metadata": {},
   "outputs": [
    {
     "data": {
      "text/html": [
       "<div>\n",
       "<style scoped>\n",
       "    .dataframe tbody tr th:only-of-type {\n",
       "        vertical-align: middle;\n",
       "    }\n",
       "\n",
       "    .dataframe tbody tr th {\n",
       "        vertical-align: top;\n",
       "    }\n",
       "\n",
       "    .dataframe thead th {\n",
       "        text-align: right;\n",
       "    }\n",
       "</style>\n",
       "<table border=\"1\" class=\"dataframe\">\n",
       "  <thead>\n",
       "    <tr style=\"text-align: right;\">\n",
       "      <th></th>\n",
       "      <th>title</th>\n",
       "      <th>author</th>\n",
       "      <th>Date</th>\n",
       "      <th>Score</th>\n",
       "    </tr>\n",
       "  </thead>\n",
       "  <tbody>\n",
       "    <tr>\n",
       "      <td>0</td>\n",
       "      <td>37 Who Saw Murder Didn't Call the Police - The...</td>\n",
       "      <td>NaN</td>\n",
       "      <td>2014-05-08</td>\n",
       "      <td>-0.6908</td>\n",
       "    </tr>\n",
       "    <tr>\n",
       "      <td>1</td>\n",
       "      <td>The Pillow Cure - The New York Times</td>\n",
       "      <td>Penelope Green</td>\n",
       "      <td>2015-03-26</td>\n",
       "      <td>0.0000</td>\n",
       "    </tr>\n",
       "    <tr>\n",
       "      <td>2</td>\n",
       "      <td>John Ashbery: By the Book - The New York Times</td>\n",
       "      <td>NaN</td>\n",
       "      <td>2015-05-13</td>\n",
       "      <td>0.0000</td>\n",
       "    </tr>\n",
       "    <tr>\n",
       "      <td>3</td>\n",
       "      <td>Drink to Your Health (in Moderation), the Scie...</td>\n",
       "      <td>Aaron E. Carroll</td>\n",
       "      <td>2015-12-22</td>\n",
       "      <td>0.0000</td>\n",
       "    </tr>\n",
       "    <tr>\n",
       "      <td>4</td>\n",
       "      <td>Simple Rules for Healthy Eating - The New York...</td>\n",
       "      <td>Aaron E. Carroll</td>\n",
       "      <td>2015-12-28</td>\n",
       "      <td>0.4019</td>\n",
       "    </tr>\n",
       "    <tr>\n",
       "      <td>...</td>\n",
       "      <td>...</td>\n",
       "      <td>...</td>\n",
       "      <td>...</td>\n",
       "      <td>...</td>\n",
       "    </tr>\n",
       "    <tr>\n",
       "      <td>30252</td>\n",
       "      <td>How a Trump Adviser Repeatedly Sought a Meetin...</td>\n",
       "      <td>Troy Griggs</td>\n",
       "      <td>NaT</td>\n",
       "      <td>0.0000</td>\n",
       "    </tr>\n",
       "    <tr>\n",
       "      <td>30253</td>\n",
       "      <td>Satellite Images Show 1,800 Buildings Destroye...</td>\n",
       "      <td>Anjali Singhvi</td>\n",
       "      <td>NaT</td>\n",
       "      <td>-0.6808</td>\n",
       "    </tr>\n",
       "    <tr>\n",
       "      <td>30254</td>\n",
       "      <td>Trump Could Save More Than $1 Billion Under Hi...</td>\n",
       "      <td>Jesse Drucker</td>\n",
       "      <td>NaT</td>\n",
       "      <td>0.4939</td>\n",
       "    </tr>\n",
       "    <tr>\n",
       "      <td>30255</td>\n",
       "      <td>Opinion | The Republican’s Guide to Presidenti...</td>\n",
       "      <td>The Editorial Board</td>\n",
       "      <td>NaT</td>\n",
       "      <td>0.0000</td>\n",
       "    </tr>\n",
       "    <tr>\n",
       "      <td>30256</td>\n",
       "      <td>Opinion | Who Can Beat Trump in 2020? - The Ne...</td>\n",
       "      <td>Jason Zengerle</td>\n",
       "      <td>NaT</td>\n",
       "      <td>0.0000</td>\n",
       "    </tr>\n",
       "  </tbody>\n",
       "</table>\n",
       "<p>30257 rows × 4 columns</p>\n",
       "</div>"
      ],
      "text/plain": [
       "                                                   title               author  \\\n",
       "0      37 Who Saw Murder Didn't Call the Police - The...                  NaN   \n",
       "1                   The Pillow Cure - The New York Times       Penelope Green   \n",
       "2         John Ashbery: By the Book - The New York Times                  NaN   \n",
       "3      Drink to Your Health (in Moderation), the Scie...     Aaron E. Carroll   \n",
       "4      Simple Rules for Healthy Eating - The New York...     Aaron E. Carroll   \n",
       "...                                                  ...                  ...   \n",
       "30252  How a Trump Adviser Repeatedly Sought a Meetin...          Troy Griggs   \n",
       "30253  Satellite Images Show 1,800 Buildings Destroye...       Anjali Singhvi   \n",
       "30254  Trump Could Save More Than $1 Billion Under Hi...        Jesse Drucker   \n",
       "30255  Opinion | The Republican’s Guide to Presidenti...  The Editorial Board   \n",
       "30256  Opinion | Who Can Beat Trump in 2020? - The Ne...       Jason Zengerle   \n",
       "\n",
       "            Date   Score  \n",
       "0     2014-05-08 -0.6908  \n",
       "1     2015-03-26  0.0000  \n",
       "2     2015-05-13  0.0000  \n",
       "3     2015-12-22  0.0000  \n",
       "4     2015-12-28  0.4019  \n",
       "...          ...     ...  \n",
       "30252        NaT  0.0000  \n",
       "30253        NaT -0.6808  \n",
       "30254        NaT  0.4939  \n",
       "30255        NaT  0.0000  \n",
       "30256        NaT  0.0000  \n",
       "\n",
       "[30257 rows x 4 columns]"
      ]
     },
     "execution_count": 28,
     "metadata": {},
     "output_type": "execute_result"
    }
   ],
   "source": [
    "df"
   ]
  },
  {
   "cell_type": "code",
   "execution_count": 30,
   "metadata": {
    "collapsed": true
   },
   "outputs": [],
   "source": [
    "df.to_csv('New York Times.csv', index=False)"
   ]
  }
 ],
 "metadata": {
  "kernelspec": {
   "display_name": "Python 3",
   "language": "python",
   "name": "python3"
  },
  "language_info": {
   "codemirror_mode": {
    "name": "ipython",
    "version": 3
   },
   "file_extension": ".py",
   "mimetype": "text/x-python",
   "name": "python",
   "nbconvert_exporter": "python",
   "pygments_lexer": "ipython3",
   "version": "3.7.2"
  }
 },
 "nbformat": 4,
 "nbformat_minor": 2
}
