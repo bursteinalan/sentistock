{
 "cells": [
  {
   "cell_type": "code",
   "execution_count": 1,
   "metadata": {
    "collapsed": true
   },
   "outputs": [],
   "source": [
    "import pandas as pd\n",
    "from functools import reduce"
   ]
  },
  {
   "cell_type": "code",
   "execution_count": 2,
   "metadata": {
    "collapsed": true
   },
   "outputs": [],
   "source": [
    "twitter_dir = 'data/bucket/twitter/'\n",
    "news_dir = 'data/bucket/news/'\n",
    "stock_dir = 'data/out/'\n",
    "output_dir = 'data/features/'"
   ]
  },
  {
   "cell_type": "code",
   "execution_count": 97,
   "metadata": {
    "collapsed": true
   },
   "outputs": [],
   "source": [
    "influencers = ['BarackObama_sentiment','cnnbrk_sentiment', 'KimKardashian_sentiment']\n",
    "sources = ['New York Times_sentiment', 'CNN_sentiment', 'Washington Post_sentiment']\n",
    "indices = ['VIX_Predict', 'SPY_Predict']\n",
    "stocks = ['AAPL_Predict', 'GOOG_Predict','MSFT_Predict']"
   ]
  },
  {
   "cell_type": "code",
   "execution_count": 4,
   "metadata": {
    "collapsed": true
   },
   "outputs": [],
   "source": [
    "twitter_important_columns = ['Date','sentiment_score','heuristic_score']\n",
    "stock_important_columns = ['Date','Change','Lag 2 Change', 'Lag 2 Significant']"
   ]
  },
  {
   "cell_type": "code",
   "execution_count": 5,
   "metadata": {
    "collapsed": true
   },
   "outputs": [],
   "source": [
    "first_date = pd.to_datetime('1/1/2015')\n",
    "last_date = pd.to_datetime('1/1/2017')"
   ]
  },
  {
   "cell_type": "code",
   "execution_count": 6,
   "metadata": {
    "collapsed": true
   },
   "outputs": [],
   "source": [
    "dfs_twitter = []\n",
    "for influencer in influencers:\n",
    "    influencer_name = influencer.split('_')[0]\n",
    "    df = pd.read_csv(twitter_dir+influencer+'.csv', parse_dates=['Date'])\n",
    "    df = df[df['Date']<last_date]\n",
    "    df = df[df['Date']>first_date]\n",
    "    df = df[twitter_important_columns]\n",
    "    df = df.rename(columns={'sentiment_score':influencer_name+'_sentiment_score'})\n",
    "    df = df.rename(columns={'heuristic_score':influencer_name+'_heuristic_score'})\n",
    "    dfs_twitter.append(df)"
   ]
  },
  {
   "cell_type": "code",
   "execution_count": 7,
   "metadata": {
    "collapsed": true
   },
   "outputs": [],
   "source": [
    "dfs_news = []\n",
    "for source in sources:\n",
    "    source_name = source.split('_')[0]\n",
    "    df = pd.read_csv(news_dir+source+'.csv', parse_dates=['Date'])\n",
    "    df = df[df['Date']<last_date]\n",
    "    df = df[df['Date']>first_date]\n",
    "    df = df.rename(columns={'sentiment_score':source_name+'_sentiment_score'})\n",
    "    dfs_news.append(df)"
   ]
  },
  {
   "cell_type": "code",
   "execution_count": 98,
   "metadata": {},
   "outputs": [],
   "source": [
    "dfs_index = []\n",
    "for index in indices:\n",
    "    df = pd.read_csv(stock_dir+index+'.csv', parse_dates=['Date'])\n",
    "    df['Date']= pd.to_datetime(df['Date'].dt.normalize())\n",
    "    df = df[df['Date']<last_date]\n",
    "    df = df[df['Date']>first_date]\n",
    "    df = df[stock_important_columns]\n",
    "    dfs_index.append(df)"
   ]
  },
  {
   "cell_type": "code",
   "execution_count": 101,
   "metadata": {
    "collapsed": true
   },
   "outputs": [],
   "source": [
    "dfs_stock = []\n",
    "for stock in stocks:\n",
    "    stock_name = stock.split('_')[0]\n",
    "    df = pd.read_csv(stock_dir+stock+'.csv', parse_dates=['Date'])\n",
    "    df['Date']= pd.to_datetime(df['Date'].dt.normalize())\n",
    "    df = df[df['Date']<last_date]\n",
    "    df = df[df['Date']>first_date]\n",
    "    df = df[stock_important_columns]\n",
    "    df['stock'] = stock_name\n",
    "    dfs_stock.append(df)"
   ]
  },
  {
   "cell_type": "code",
   "execution_count": 102,
   "metadata": {},
   "outputs": [
    {
     "data": {
      "text/html": [
       "<div>\n",
       "<style scoped>\n",
       "    .dataframe tbody tr th:only-of-type {\n",
       "        vertical-align: middle;\n",
       "    }\n",
       "\n",
       "    .dataframe tbody tr th {\n",
       "        vertical-align: top;\n",
       "    }\n",
       "\n",
       "    .dataframe thead th {\n",
       "        text-align: right;\n",
       "    }\n",
       "</style>\n",
       "<table border=\"1\" class=\"dataframe\">\n",
       "  <thead>\n",
       "    <tr style=\"text-align: right;\">\n",
       "      <th></th>\n",
       "      <th>Date</th>\n",
       "      <th>Change</th>\n",
       "      <th>Lag 2 Change</th>\n",
       "      <th>Lag 2 Significant</th>\n",
       "      <th>stock</th>\n",
       "    </tr>\n",
       "  </thead>\n",
       "  <tbody>\n",
       "    <tr>\n",
       "      <td>3793</td>\n",
       "      <td>2015-01-02</td>\n",
       "      <td>-0.012675</td>\n",
       "      <td>-0.043541</td>\n",
       "      <td>-1</td>\n",
       "      <td>AAPL</td>\n",
       "    </tr>\n",
       "    <tr>\n",
       "      <td>3794</td>\n",
       "      <td>2015-01-05</td>\n",
       "      <td>-0.027830</td>\n",
       "      <td>-0.010066</td>\n",
       "      <td>-1</td>\n",
       "      <td>AAPL</td>\n",
       "    </tr>\n",
       "    <tr>\n",
       "      <td>3795</td>\n",
       "      <td>2015-01-06</td>\n",
       "      <td>-0.016160</td>\n",
       "      <td>0.025249</td>\n",
       "      <td>1</td>\n",
       "      <td>AAPL</td>\n",
       "    </tr>\n",
       "    <tr>\n",
       "      <td>3796</td>\n",
       "      <td>2015-01-07</td>\n",
       "      <td>0.006195</td>\n",
       "      <td>0.051026</td>\n",
       "      <td>1</td>\n",
       "      <td>AAPL</td>\n",
       "    </tr>\n",
       "    <tr>\n",
       "      <td>3797</td>\n",
       "      <td>2015-01-08</td>\n",
       "      <td>0.018937</td>\n",
       "      <td>0.030852</td>\n",
       "      <td>1</td>\n",
       "      <td>AAPL</td>\n",
       "    </tr>\n",
       "    <tr>\n",
       "      <td>...</td>\n",
       "      <td>...</td>\n",
       "      <td>...</td>\n",
       "      <td>...</td>\n",
       "      <td>...</td>\n",
       "      <td>...</td>\n",
       "    </tr>\n",
       "    <tr>\n",
       "      <td>4292</td>\n",
       "      <td>2016-12-23</td>\n",
       "      <td>-0.006532</td>\n",
       "      <td>0.016697</td>\n",
       "      <td>1</td>\n",
       "      <td>AAPL</td>\n",
       "    </tr>\n",
       "    <tr>\n",
       "      <td>4293</td>\n",
       "      <td>2016-12-27</td>\n",
       "      <td>0.008046</td>\n",
       "      <td>-0.000601</td>\n",
       "      <td>0</td>\n",
       "      <td>AAPL</td>\n",
       "    </tr>\n",
       "    <tr>\n",
       "      <td>4294</td>\n",
       "      <td>2016-12-28</td>\n",
       "      <td>0.008582</td>\n",
       "      <td>-0.007403</td>\n",
       "      <td>0</td>\n",
       "      <td>AAPL</td>\n",
       "    </tr>\n",
       "    <tr>\n",
       "      <td>4295</td>\n",
       "      <td>2016-12-29</td>\n",
       "      <td>-0.009105</td>\n",
       "      <td>-0.005582</td>\n",
       "      <td>0</td>\n",
       "      <td>AAPL</td>\n",
       "    </tr>\n",
       "    <tr>\n",
       "      <td>4296</td>\n",
       "      <td>2016-12-30</td>\n",
       "      <td>0.001717</td>\n",
       "      <td>-0.006858</td>\n",
       "      <td>0</td>\n",
       "      <td>AAPL</td>\n",
       "    </tr>\n",
       "  </tbody>\n",
       "</table>\n",
       "<p>504 rows × 5 columns</p>\n",
       "</div>"
      ],
      "text/plain": [
       "           Date    Change  Lag 2 Change  Lag 2 Significant stock\n",
       "3793 2015-01-02 -0.012675     -0.043541                 -1  AAPL\n",
       "3794 2015-01-05 -0.027830     -0.010066                 -1  AAPL\n",
       "3795 2015-01-06 -0.016160      0.025249                  1  AAPL\n",
       "3796 2015-01-07  0.006195      0.051026                  1  AAPL\n",
       "3797 2015-01-08  0.018937      0.030852                  1  AAPL\n",
       "...         ...       ...           ...                ...   ...\n",
       "4292 2016-12-23 -0.006532      0.016697                  1  AAPL\n",
       "4293 2016-12-27  0.008046     -0.000601                  0  AAPL\n",
       "4294 2016-12-28  0.008582     -0.007403                  0  AAPL\n",
       "4295 2016-12-29 -0.009105     -0.005582                  0  AAPL\n",
       "4296 2016-12-30  0.001717     -0.006858                  0  AAPL\n",
       "\n",
       "[504 rows x 5 columns]"
      ]
     },
     "execution_count": 102,
     "metadata": {},
     "output_type": "execute_result"
    }
   ],
   "source": [
    "dfs_stock[0]"
   ]
  },
  {
   "cell_type": "code",
   "execution_count": 9,
   "metadata": {
    "collapsed": true
   },
   "outputs": [],
   "source": [
    "df_twitter = reduce(lambda  left,right: pd.merge(left,right,on=['Date'],\n",
    "                                            how='outer'), dfs_twitter)"
   ]
  },
  {
   "cell_type": "code",
   "execution_count": 10,
   "metadata": {
    "collapsed": true
   },
   "outputs": [],
   "source": [
    "df_news = reduce(lambda  left,right: pd.merge(left,right,on=['Date'],\n",
    "                                            how='outer'), dfs_news)"
   ]
  },
  {
   "cell_type": "code",
   "execution_count": 106,
   "metadata": {
    "collapsed": true
   },
   "outputs": [],
   "source": [
    "df_stock = pd.concat(dfs_stock, ignore_index=True)"
   ]
  },
  {
   "cell_type": "code",
   "execution_count": 107,
   "metadata": {},
   "outputs": [
    {
     "data": {
      "text/html": [
       "<div>\n",
       "<style scoped>\n",
       "    .dataframe tbody tr th:only-of-type {\n",
       "        vertical-align: middle;\n",
       "    }\n",
       "\n",
       "    .dataframe tbody tr th {\n",
       "        vertical-align: top;\n",
       "    }\n",
       "\n",
       "    .dataframe thead th {\n",
       "        text-align: right;\n",
       "    }\n",
       "</style>\n",
       "<table border=\"1\" class=\"dataframe\">\n",
       "  <thead>\n",
       "    <tr style=\"text-align: right;\">\n",
       "      <th></th>\n",
       "      <th>Date</th>\n",
       "      <th>Change</th>\n",
       "      <th>Lag 2 Change</th>\n",
       "      <th>Lag 2 Significant</th>\n",
       "      <th>stock</th>\n",
       "    </tr>\n",
       "  </thead>\n",
       "  <tbody>\n",
       "    <tr>\n",
       "      <td>0</td>\n",
       "      <td>2015-01-02</td>\n",
       "      <td>-0.012675</td>\n",
       "      <td>-0.043541</td>\n",
       "      <td>-1</td>\n",
       "      <td>AAPL</td>\n",
       "    </tr>\n",
       "    <tr>\n",
       "      <td>1</td>\n",
       "      <td>2015-01-05</td>\n",
       "      <td>-0.027830</td>\n",
       "      <td>-0.010066</td>\n",
       "      <td>-1</td>\n",
       "      <td>AAPL</td>\n",
       "    </tr>\n",
       "    <tr>\n",
       "      <td>2</td>\n",
       "      <td>2015-01-06</td>\n",
       "      <td>-0.016160</td>\n",
       "      <td>0.025249</td>\n",
       "      <td>1</td>\n",
       "      <td>AAPL</td>\n",
       "    </tr>\n",
       "    <tr>\n",
       "      <td>3</td>\n",
       "      <td>2015-01-07</td>\n",
       "      <td>0.006195</td>\n",
       "      <td>0.051026</td>\n",
       "      <td>1</td>\n",
       "      <td>AAPL</td>\n",
       "    </tr>\n",
       "    <tr>\n",
       "      <td>4</td>\n",
       "      <td>2015-01-08</td>\n",
       "      <td>0.018937</td>\n",
       "      <td>0.030852</td>\n",
       "      <td>1</td>\n",
       "      <td>AAPL</td>\n",
       "    </tr>\n",
       "    <tr>\n",
       "      <td>...</td>\n",
       "      <td>...</td>\n",
       "      <td>...</td>\n",
       "      <td>...</td>\n",
       "      <td>...</td>\n",
       "      <td>...</td>\n",
       "    </tr>\n",
       "    <tr>\n",
       "      <td>1507</td>\n",
       "      <td>2016-12-23</td>\n",
       "      <td>-0.006109</td>\n",
       "      <td>-0.000788</td>\n",
       "      <td>0</td>\n",
       "      <td>MSFT</td>\n",
       "    </tr>\n",
       "    <tr>\n",
       "      <td>1508</td>\n",
       "      <td>2016-12-27</td>\n",
       "      <td>-0.003783</td>\n",
       "      <td>-0.005537</td>\n",
       "      <td>0</td>\n",
       "      <td>MSFT</td>\n",
       "    </tr>\n",
       "    <tr>\n",
       "      <td>1509</td>\n",
       "      <td>2016-12-28</td>\n",
       "      <td>0.003006</td>\n",
       "      <td>-0.006940</td>\n",
       "      <td>0</td>\n",
       "      <td>MSFT</td>\n",
       "    </tr>\n",
       "    <tr>\n",
       "      <td>1510</td>\n",
       "      <td>2016-12-29</td>\n",
       "      <td>-0.008517</td>\n",
       "      <td>-0.001114</td>\n",
       "      <td>0</td>\n",
       "      <td>MSFT</td>\n",
       "    </tr>\n",
       "    <tr>\n",
       "      <td>1511</td>\n",
       "      <td>2016-12-30</td>\n",
       "      <td>0.001591</td>\n",
       "      <td>-0.007624</td>\n",
       "      <td>0</td>\n",
       "      <td>MSFT</td>\n",
       "    </tr>\n",
       "  </tbody>\n",
       "</table>\n",
       "<p>1512 rows × 5 columns</p>\n",
       "</div>"
      ],
      "text/plain": [
       "           Date    Change  Lag 2 Change  Lag 2 Significant stock\n",
       "0    2015-01-02 -0.012675     -0.043541                 -1  AAPL\n",
       "1    2015-01-05 -0.027830     -0.010066                 -1  AAPL\n",
       "2    2015-01-06 -0.016160      0.025249                  1  AAPL\n",
       "3    2015-01-07  0.006195      0.051026                  1  AAPL\n",
       "4    2015-01-08  0.018937      0.030852                  1  AAPL\n",
       "...         ...       ...           ...                ...   ...\n",
       "1507 2016-12-23 -0.006109     -0.000788                  0  MSFT\n",
       "1508 2016-12-27 -0.003783     -0.005537                  0  MSFT\n",
       "1509 2016-12-28  0.003006     -0.006940                  0  MSFT\n",
       "1510 2016-12-29 -0.008517     -0.001114                  0  MSFT\n",
       "1511 2016-12-30  0.001591     -0.007624                  0  MSFT\n",
       "\n",
       "[1512 rows x 5 columns]"
      ]
     },
     "execution_count": 107,
     "metadata": {},
     "output_type": "execute_result"
    }
   ],
   "source": [
    "df_stock"
   ]
  },
  {
   "cell_type": "code",
   "execution_count": 104,
   "metadata": {
    "collapsed": true
   },
   "outputs": [],
   "source": [
    "index_name = [' '+index.split('_')[0] for index in indices]"
   ]
  },
  {
   "cell_type": "code",
   "execution_count": 105,
   "metadata": {},
   "outputs": [],
   "source": [
    "df_index = reduce(lambda  left,right: pd.merge(left,right,on=['Date'],\n",
    "                                            how='outer', suffixes=index_name), dfs_index)"
   ]
  },
  {
   "cell_type": "code",
   "execution_count": 13,
   "metadata": {
    "collapsed": true
   },
   "outputs": [],
   "source": [
    "# Handle Weekends"
   ]
  },
  {
   "cell_type": "code",
   "execution_count": 14,
   "metadata": {
    "collapsed": true
   },
   "outputs": [],
   "source": [
    "predict_dates = df_stock['Date']"
   ]
  },
  {
   "cell_type": "code",
   "execution_count": 15,
   "metadata": {
    "collapsed": true
   },
   "outputs": [],
   "source": [
    "#FOR NOW ONLY DELETE THE WEEKENDS\n",
    "df_twitter = pd.merge(predict_dates, df_twitter, on=[\"Date\"], how='left')\n",
    "df_news = pd.merge(predict_dates, df_news, on=[\"Date\"], how='left')"
   ]
  },
  {
   "cell_type": "code",
   "execution_count": 108,
   "metadata": {
    "collapsed": true
   },
   "outputs": [],
   "source": [
    "df_twitter.to_csv(output_dir+'twitter_features.csv', index=False)\n",
    "df_news.to_csv(output_dir+'news_features.csv', index=False)\n",
    "df_index.to_csv(output_dir+'index_features.csv', index=False)\n",
    "df_stock.to_csv(output_dir+'stock_features.csv', index=False)"
   ]
  },
  {
   "cell_type": "code",
   "execution_count": null,
   "metadata": {
    "collapsed": true
   },
   "outputs": [],
   "source": []
  }
 ],
 "metadata": {
  "kernelspec": {
   "display_name": "Python 3",
   "language": "python",
   "name": "python3"
  },
  "language_info": {
   "codemirror_mode": {
    "name": "ipython",
    "version": 3
   },
   "file_extension": ".py",
   "mimetype": "text/x-python",
   "name": "python",
   "nbconvert_exporter": "python",
   "pygments_lexer": "ipython3",
   "version": "3.6.2"
  }
 },
 "nbformat": 4,
 "nbformat_minor": 2
}
