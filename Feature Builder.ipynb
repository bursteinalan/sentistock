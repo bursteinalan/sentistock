{
 "cells": [
  {
   "cell_type": "code",
   "execution_count": 206,
   "metadata": {
    "collapsed": true
   },
   "outputs": [],
   "source": [
    "import pandas as pd\n",
    "from functools import reduce"
   ]
  },
  {
   "cell_type": "code",
   "execution_count": 207,
   "metadata": {
    "collapsed": true
   },
   "outputs": [],
   "source": [
    "twitter_dir = 'data/bucket/twitter/'\n",
    "news_dir = 'data/bucket/news/'\n",
    "stock_dir = 'data/out/'\n",
    "output_dir = 'data/features/'"
   ]
  },
  {
   "cell_type": "code",
   "execution_count": 208,
   "metadata": {
    "collapsed": true
   },
   "outputs": [],
   "source": [
    "influencers = ['BarackObama_sentiment','cnnbrk_sentiment', 'KimKardashian_sentiment', 'Trump_sentiment']\n",
    "sources = ['New York Times_sentiment', 'CNN_sentiment', 'Washington Post_sentiment', 'NYT_ALL_sentiment']\n",
    "indices = ['VIX_Predict', 'SPY_Predict']\n",
    "stocks = ['AAPL_Predict', 'GOOG_Predict','MSFT_Predict']"
   ]
  },
  {
   "cell_type": "code",
   "execution_count": 255,
   "metadata": {
    "collapsed": true
   },
   "outputs": [],
   "source": [
    "twitter_important_columns = ['Date','sentiment_score','heuristic_score']\n",
    "news_important_columns = ['Date','sentiment_score','polar_score']\n",
    "stock_important_columns = ['Date','Change','Direction','Lag 1 Change', 'Lag 1 Direction','Lag 2 Change', 'Lag 2 Direction','Lag 5 Change', 'Lag 5 Direction']\n",
    "\n",
    "stock_simple_columns = ['Date','Change','Lag 2 Significant']"
   ]
  },
  {
   "cell_type": "code",
   "execution_count": 256,
   "metadata": {
    "collapsed": true
   },
   "outputs": [],
   "source": [
    "first_date = pd.to_datetime('1/1/2015')\n",
    "last_date = pd.to_datetime('5/1/2019')"
   ]
  },
  {
   "cell_type": "code",
   "execution_count": 257,
   "metadata": {
    "collapsed": true
   },
   "outputs": [],
   "source": [
    "dfs_twitter = []\n",
    "for influencer in influencers:\n",
    "    influencer_name = influencer.split('_')[0]\n",
    "    df = pd.read_csv(twitter_dir+influencer+'.csv', parse_dates=['Date'])\n",
    "    df = df[df['Date']<last_date]\n",
    "    df = df[df['Date']>first_date]\n",
    "    df = df[twitter_important_columns]\n",
    "    df = df.rename(columns={'sentiment_score':influencer_name+'_sentiment_score'})\n",
    "    df = df.rename(columns={'heuristic_score':influencer_name+'_heuristic_score'})\n",
    "    dfs_twitter.append(df)"
   ]
  },
  {
   "cell_type": "code",
   "execution_count": 258,
   "metadata": {
    "collapsed": true
   },
   "outputs": [],
   "source": [
    "dfs_news = []\n",
    "for source in sources:\n",
    "    source_name = source.split('_')[0]\n",
    "    df = pd.read_csv(news_dir+source+'.csv', parse_dates=['Date'])\n",
    "    df = df[df['Date']<last_date]\n",
    "    df = df[df['Date']>first_date]\n",
    "    df = df.rename(columns={'sentiment_score':source_name+'_sentiment_score','polar_score':source_name+'_polar_score'})\n",
    "    dfs_news.append(df)"
   ]
  },
  {
   "cell_type": "code",
   "execution_count": 259,
   "metadata": {
    "collapsed": true
   },
   "outputs": [],
   "source": [
    "dfs_index = []\n",
    "for index in indices:\n",
    "    df = pd.read_csv(stock_dir+index+'.csv', parse_dates=['Date'])\n",
    "    df['Date']= pd.to_datetime(df['Date'].dt.normalize())\n",
    "    df = df[df['Date']<last_date]\n",
    "    df = df[df['Date']>first_date]\n",
    "    df = df[stock_important_columns]\n",
    "    dfs_index.append(df)"
   ]
  },
  {
   "cell_type": "code",
   "execution_count": 260,
   "metadata": {
    "collapsed": true
   },
   "outputs": [],
   "source": [
    "dfs_stock = []\n",
    "for stock in stocks:\n",
    "    stock_name = stock.split('_')[0]\n",
    "    df = pd.read_csv(stock_dir+stock+'.csv', parse_dates=['Date'])\n",
    "    df['Date']= pd.to_datetime(df['Date'].dt.normalize())\n",
    "    df = df[df['Date']<last_date]\n",
    "    df = df[df['Date']>first_date]\n",
    "    df = df[stock_simple_columns]\n",
    "    df = df.rename(columns={'Change':stock_name+'_Change','Lag 2 Significant':stock_name+'_Lag 2 Significant'})\n",
    "    df['stock'] = stock_name\n",
    "    dfs_stock.append(df)"
   ]
  },
  {
   "cell_type": "code",
   "execution_count": 261,
   "metadata": {},
   "outputs": [
    {
     "data": {
      "text/html": [
       "<div>\n",
       "<style scoped>\n",
       "    .dataframe tbody tr th:only-of-type {\n",
       "        vertical-align: middle;\n",
       "    }\n",
       "\n",
       "    .dataframe tbody tr th {\n",
       "        vertical-align: top;\n",
       "    }\n",
       "\n",
       "    .dataframe thead th {\n",
       "        text-align: right;\n",
       "    }\n",
       "</style>\n",
       "<table border=\"1\" class=\"dataframe\">\n",
       "  <thead>\n",
       "    <tr style=\"text-align: right;\">\n",
       "      <th></th>\n",
       "      <th>Date</th>\n",
       "      <th>KimKardashian_sentiment_score</th>\n",
       "      <th>KimKardashian_heuristic_score</th>\n",
       "    </tr>\n",
       "  </thead>\n",
       "  <tbody>\n",
       "    <tr>\n",
       "      <td>0</td>\n",
       "      <td>2015-01-06</td>\n",
       "      <td>4.0653</td>\n",
       "      <td>37.652221</td>\n",
       "    </tr>\n",
       "    <tr>\n",
       "      <td>1</td>\n",
       "      <td>2015-01-07</td>\n",
       "      <td>0.9154</td>\n",
       "      <td>8.877281</td>\n",
       "    </tr>\n",
       "    <tr>\n",
       "      <td>2</td>\n",
       "      <td>2015-01-08</td>\n",
       "      <td>1.7150</td>\n",
       "      <td>16.294419</td>\n",
       "    </tr>\n",
       "    <tr>\n",
       "      <td>3</td>\n",
       "      <td>2015-01-09</td>\n",
       "      <td>4.6104</td>\n",
       "      <td>34.428163</td>\n",
       "    </tr>\n",
       "    <tr>\n",
       "      <td>4</td>\n",
       "      <td>2015-01-12</td>\n",
       "      <td>0.6966</td>\n",
       "      <td>4.554270</td>\n",
       "    </tr>\n",
       "    <tr>\n",
       "      <td>...</td>\n",
       "      <td>...</td>\n",
       "      <td>...</td>\n",
       "      <td>...</td>\n",
       "    </tr>\n",
       "    <tr>\n",
       "      <td>362</td>\n",
       "      <td>2017-06-01</td>\n",
       "      <td>1.3789</td>\n",
       "      <td>11.152696</td>\n",
       "    </tr>\n",
       "    <tr>\n",
       "      <td>363</td>\n",
       "      <td>2017-08-01</td>\n",
       "      <td>0.7215</td>\n",
       "      <td>7.021072</td>\n",
       "    </tr>\n",
       "    <tr>\n",
       "      <td>364</td>\n",
       "      <td>2017-09-29</td>\n",
       "      <td>0.0000</td>\n",
       "      <td>0.000000</td>\n",
       "    </tr>\n",
       "    <tr>\n",
       "      <td>365</td>\n",
       "      <td>2017-11-01</td>\n",
       "      <td>0.3612</td>\n",
       "      <td>4.032091</td>\n",
       "    </tr>\n",
       "    <tr>\n",
       "      <td>366</td>\n",
       "      <td>2017-12-01</td>\n",
       "      <td>0.4898</td>\n",
       "      <td>4.500629</td>\n",
       "    </tr>\n",
       "  </tbody>\n",
       "</table>\n",
       "<p>367 rows × 3 columns</p>\n",
       "</div>"
      ],
      "text/plain": [
       "          Date  KimKardashian_sentiment_score  KimKardashian_heuristic_score\n",
       "0   2015-01-06                         4.0653                      37.652221\n",
       "1   2015-01-07                         0.9154                       8.877281\n",
       "2   2015-01-08                         1.7150                      16.294419\n",
       "3   2015-01-09                         4.6104                      34.428163\n",
       "4   2015-01-12                         0.6966                       4.554270\n",
       "..         ...                            ...                            ...\n",
       "362 2017-06-01                         1.3789                      11.152696\n",
       "363 2017-08-01                         0.7215                       7.021072\n",
       "364 2017-09-29                         0.0000                       0.000000\n",
       "365 2017-11-01                         0.3612                       4.032091\n",
       "366 2017-12-01                         0.4898                       4.500629\n",
       "\n",
       "[367 rows x 3 columns]"
      ]
     },
     "execution_count": 261,
     "metadata": {},
     "output_type": "execute_result"
    }
   ],
   "source": [
    "dfs_twitter[2]"
   ]
  },
  {
   "cell_type": "code",
   "execution_count": 262,
   "metadata": {
    "collapsed": true
   },
   "outputs": [],
   "source": [
    "df_twitter = reduce(lambda  left,right: pd.merge(left,right,on=['Date'],\n",
    "                                            how='outer'), dfs_twitter)"
   ]
  },
  {
   "cell_type": "code",
   "execution_count": 263,
   "metadata": {
    "collapsed": true
   },
   "outputs": [],
   "source": [
    "df_news = reduce(lambda  left,right: pd.merge(left,right,on=['Date'],\n",
    "                                            how='outer'), dfs_news)"
   ]
  },
  {
   "cell_type": "code",
   "execution_count": 264,
   "metadata": {},
   "outputs": [],
   "source": [
    "df_stock = reduce(lambda  left,right: pd.merge(left,right,on=['Date'],\n",
    "                                            how='outer'), dfs_stock)"
   ]
  },
  {
   "cell_type": "code",
   "execution_count": 265,
   "metadata": {
    "scrolled": true
   },
   "outputs": [
    {
     "data": {
      "text/plain": [
       "2016-09-08    1\n",
       "2016-08-01    1\n",
       "2018-03-15    1\n",
       "2017-03-15    1\n",
       "2018-02-12    1\n",
       "             ..\n",
       "2018-08-08    1\n",
       "2016-01-08    1\n",
       "2018-08-29    1\n",
       "2016-08-05    1\n",
       "2018-12-21    1\n",
       "Name: Date, Length: 1088, dtype: int64"
      ]
     },
     "execution_count": 265,
     "metadata": {},
     "output_type": "execute_result"
    }
   ],
   "source": [
    "df_stock['Date'].value_counts()"
   ]
  },
  {
   "cell_type": "code",
   "execution_count": 266,
   "metadata": {},
   "outputs": [
    {
     "data": {
      "text/html": [
       "<div>\n",
       "<style scoped>\n",
       "    .dataframe tbody tr th:only-of-type {\n",
       "        vertical-align: middle;\n",
       "    }\n",
       "\n",
       "    .dataframe tbody tr th {\n",
       "        vertical-align: top;\n",
       "    }\n",
       "\n",
       "    .dataframe thead th {\n",
       "        text-align: right;\n",
       "    }\n",
       "</style>\n",
       "<table border=\"1\" class=\"dataframe\">\n",
       "  <thead>\n",
       "    <tr style=\"text-align: right;\">\n",
       "      <th></th>\n",
       "      <th>Date</th>\n",
       "      <th>BarackObama_sentiment_score</th>\n",
       "      <th>BarackObama_heuristic_score</th>\n",
       "      <th>cnnbrk_sentiment_score</th>\n",
       "      <th>cnnbrk_heuristic_score</th>\n",
       "      <th>KimKardashian_sentiment_score</th>\n",
       "      <th>KimKardashian_heuristic_score</th>\n",
       "      <th>Trump_sentiment_score</th>\n",
       "      <th>Trump_heuristic_score</th>\n",
       "    </tr>\n",
       "  </thead>\n",
       "  <tbody>\n",
       "    <tr>\n",
       "      <td>363</td>\n",
       "      <td>2016-07-08</td>\n",
       "      <td>3.6317</td>\n",
       "      <td>30.071745</td>\n",
       "      <td>-9.6273</td>\n",
       "      <td>-58.698247</td>\n",
       "      <td>1.0561</td>\n",
       "      <td>8.794363</td>\n",
       "      <td>-2.6855</td>\n",
       "      <td>-29.170788</td>\n",
       "    </tr>\n",
       "  </tbody>\n",
       "</table>\n",
       "</div>"
      ],
      "text/plain": [
       "          Date  BarackObama_sentiment_score  BarackObama_heuristic_score  \\\n",
       "363 2016-07-08                       3.6317                    30.071745   \n",
       "\n",
       "     cnnbrk_sentiment_score  cnnbrk_heuristic_score  \\\n",
       "363                 -9.6273              -58.698247   \n",
       "\n",
       "     KimKardashian_sentiment_score  KimKardashian_heuristic_score  \\\n",
       "363                         1.0561                       8.794363   \n",
       "\n",
       "     Trump_sentiment_score  Trump_heuristic_score  \n",
       "363                -2.6855             -29.170788  "
      ]
     },
     "execution_count": 266,
     "metadata": {},
     "output_type": "execute_result"
    }
   ],
   "source": [
    "df_twitter[df_twitter['Date']=='2016-07-08']"
   ]
  },
  {
   "cell_type": "code",
   "execution_count": 267,
   "metadata": {
    "collapsed": true
   },
   "outputs": [],
   "source": [
    "index_name = [' '+index.split('_')[0] for index in indices]"
   ]
  },
  {
   "cell_type": "code",
   "execution_count": 268,
   "metadata": {
    "collapsed": true
   },
   "outputs": [],
   "source": [
    "df_index = reduce(lambda  left,right: pd.merge(left,right,on=['Date'],\n",
    "                                            how='outer', suffixes=index_name), dfs_index)"
   ]
  },
  {
   "cell_type": "code",
   "execution_count": 269,
   "metadata": {
    "collapsed": true
   },
   "outputs": [],
   "source": [
    "# Handle Weekends"
   ]
  },
  {
   "cell_type": "code",
   "execution_count": 270,
   "metadata": {
    "collapsed": true
   },
   "outputs": [],
   "source": [
    "predict_dates = df_stock['Date']"
   ]
  },
  {
   "cell_type": "code",
   "execution_count": 271,
   "metadata": {},
   "outputs": [
    {
     "data": {
      "text/plain": [
       "(1088,)"
      ]
     },
     "execution_count": 271,
     "metadata": {},
     "output_type": "execute_result"
    }
   ],
   "source": [
    "predict_dates.shape"
   ]
  },
  {
   "cell_type": "code",
   "execution_count": 272,
   "metadata": {
    "collapsed": true
   },
   "outputs": [],
   "source": [
    "#FOR NOW ONLY DELETE THE WEEKENDS\n",
    "df_twitter = pd.merge(predict_dates, df_twitter, on=[\"Date\"], how='left')\n",
    "df_news = pd.merge(predict_dates, df_news, on=[\"Date\"], how='left')"
   ]
  },
  {
   "cell_type": "code",
   "execution_count": 273,
   "metadata": {},
   "outputs": [
    {
     "data": {
      "text/plain": [
       "(1088, 9)"
      ]
     },
     "execution_count": 273,
     "metadata": {},
     "output_type": "execute_result"
    }
   ],
   "source": [
    "df_twitter.shape"
   ]
  },
  {
   "cell_type": "code",
   "execution_count": 274,
   "metadata": {},
   "outputs": [
    {
     "data": {
      "text/plain": [
       "(1088, 9)"
      ]
     },
     "execution_count": 274,
     "metadata": {},
     "output_type": "execute_result"
    }
   ],
   "source": [
    "df_news.shape"
   ]
  },
  {
   "cell_type": "code",
   "execution_count": 275,
   "metadata": {},
   "outputs": [
    {
     "data": {
      "text/plain": [
       "(1088, 17)"
      ]
     },
     "execution_count": 275,
     "metadata": {},
     "output_type": "execute_result"
    }
   ],
   "source": [
    "df_index.shape"
   ]
  },
  {
   "cell_type": "code",
   "execution_count": 276,
   "metadata": {},
   "outputs": [
    {
     "data": {
      "text/plain": [
       "(1088, 10)"
      ]
     },
     "execution_count": 276,
     "metadata": {},
     "output_type": "execute_result"
    }
   ],
   "source": [
    "df_stock.shape"
   ]
  },
  {
   "cell_type": "code",
   "execution_count": 277,
   "metadata": {
    "collapsed": true
   },
   "outputs": [],
   "source": [
    "df_twitter.to_csv(output_dir+'twitter_features.csv', index=False)\n",
    "df_news.to_csv(output_dir+'news_features.csv', index=False)\n",
    "df_index.to_csv(output_dir+'index_features.csv', index=False)\n",
    "df_stock.to_csv(output_dir+'stock_features.csv', index=False)"
   ]
  },
  {
   "cell_type": "code",
   "execution_count": null,
   "metadata": {
    "collapsed": true
   },
   "outputs": [],
   "source": []
  }
 ],
 "metadata": {
  "kernelspec": {
   "display_name": "Python 3",
   "language": "python",
   "name": "python3"
  },
  "language_info": {
   "codemirror_mode": {
    "name": "ipython",
    "version": 3
   },
   "file_extension": ".py",
   "mimetype": "text/x-python",
   "name": "python",
   "nbconvert_exporter": "python",
   "pygments_lexer": "ipython3",
   "version": "3.6.2"
  }
 },
 "nbformat": 4,
 "nbformat_minor": 2
}
