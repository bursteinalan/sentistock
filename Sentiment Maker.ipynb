{
 "cells": [
  {
   "cell_type": "code",
   "execution_count": 1,
   "metadata": {},
   "outputs": [],
   "source": [
    "from vaderSentiment.vaderSentiment import SentimentIntensityAnalyzer\n",
    "import pandas as pd\n",
    "import numpy as np"
   ]
  },
  {
   "cell_type": "code",
   "execution_count": 2,
   "metadata": {},
   "outputs": [],
   "source": [
    "analyser = SentimentIntensityAnalyzer()"
   ]
  },
  {
   "cell_type": "code",
   "execution_count": 3,
   "metadata": {},
   "outputs": [],
   "source": [
    "news_dir = 'data/bucket/news/'\n",
    "twitter_dir = 'data/bucket/twitter/'\n",
    "influencers = ['BarackObama','cnnbrk', 'KimKardashian', 'Trump']\n",
    "sources = ['New York Times', 'CNN', 'Washington Post']"
   ]
  },
  {
   "cell_type": "code",
   "execution_count": 4,
   "metadata": {},
   "outputs": [],
   "source": [
    "def sentiment_analyzer_scores(sentence):\n",
    "    try:\n",
    "        score = analyser.polarity_scores(sentence)\n",
    "        return score['compound']\n",
    "    except:\n",
    "        print('Failed to score content:',sentence)\n",
    "        return 0\n",
    "    \n",
    "#     print(\"{:-<40} {}\".format(sentence, str(score)))"
   ]
  },
  {
   "cell_type": "code",
   "execution_count": 5,
   "metadata": {},
   "outputs": [],
   "source": [
    "#TODO ADD CUSTOM HEURISTICS\n",
    "def heuristic_1(df):\n",
    "    senti = sum(df['sentiment_score']*df['number_of_likes'].apply(np.log))\n",
    "    return senti\n",
    "    "
   ]
  },
  {
   "cell_type": "code",
   "execution_count": 6,
   "metadata": {},
   "outputs": [],
   "source": [
    "def sentimentTwiiter(influencers):\n",
    "    for influencer in influencers:\n",
    "        print('Processing:', influencer)\n",
    "        df = pd.read_csv(twitter_dir+influencer+'.csv')\n",
    "        df['Date'] = pd.to_datetime(df['Date'], errors='coerce')\n",
    "        df['Date'] = pd.to_datetime(df['Date'].dt.normalize())\n",
    "        df['sentiment_score'] = df['content'].apply(sentiment_analyzer_scores)\n",
    "        df['number_of_likes'] = df['number_of_likes'].map(lambda x: x if isinstance(x, int) else 0)\n",
    "        df2 = df.groupby('Date').sum()\n",
    "        df2 = df2.astype({'number_of_likes': 'int64'})\n",
    "        df2['heuristic_score'] = df.groupby('Date').apply(heuristic_1)\n",
    "        df2 = df2.reset_index()\n",
    "        df2 = df2[['Date','sentiment_score', 'heuristic_score']]\n",
    "        df2.to_csv(twitter_dir+influencer+'_sentiment.csv', index=False)\n",
    "    print('done')"
   ]
  },
  {
   "cell_type": "code",
   "execution_count": 7,
   "metadata": {},
   "outputs": [],
   "source": [
    "def sentimentNews(sources):\n",
    "    for source in sources:\n",
    "        print('Processing:', source)\n",
    "        df = pd.read_csv(news_dir+source+'.csv')\n",
    "        df['Date'] = pd.to_datetime(df['Date'], errors='coerce')\n",
    "        df['Date'] = pd.to_datetime(df['Date'].dt.normalize())\n",
    "        df['sentiment_score'] = df['title'].apply(sentiment_analyzer_scores)\n",
    "        df2 = df.groupby('Date').sum()\n",
    "        df2 = df2.reset_index()\n",
    "        df2 = df2[['Date','sentiment_score']]\n",
    "        df2.to_csv(news_dir+source+'_sentiment.csv', index=False)\n",
    "    print('done')"
   ]
  },
  {
   "cell_type": "code",
   "execution_count": 8,
   "metadata": {},
   "outputs": [
    {
     "name": "stdout",
     "output_type": "stream",
     "text": [
      "Processing: BarackObama\n",
      "Processing: cnnbrk\n",
      "Processing: KimKardashian\n",
      "Processing: Trump\n",
      "done\n",
      "Processing: New York Times\n",
      "Processing: CNN\n",
      "Processing: Washington Post\n",
      "done\n"
     ]
    }
   ],
   "source": [
    "#AUTOMATION\n",
    "sentimentTwiiter(influencers)\n",
    "sentimentNews(sources)"
   ]
  }
 ],
 "metadata": {
  "kernelspec": {
   "display_name": "Python 3",
   "language": "python",
   "name": "python3"
  },
  "language_info": {
   "codemirror_mode": {
    "name": "ipython",
    "version": 3
   },
   "file_extension": ".py",
   "mimetype": "text/x-python",
   "name": "python",
   "nbconvert_exporter": "python",
   "pygments_lexer": "ipython3",
   "version": "3.7.2"
  }
 },
 "nbformat": 4,
 "nbformat_minor": 2
}
