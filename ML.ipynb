{
 "cells": [
  {
   "cell_type": "code",
   "execution_count": 86,
   "metadata": {},
   "outputs": [],
   "source": [
    "import pandas as pd\n",
    "from functools import reduce\n",
    "\n",
    "from sklearn.model_selection import KFold\n",
    "from sklearn.ensemble import RandomForestClassifier\n",
    "from sklearn.model_selection import GridSearchCV\n",
    "from sklearn.svm import SVC, SVR"
   ]
  },
  {
   "cell_type": "code",
   "execution_count": 87,
   "metadata": {
    "collapsed": true
   },
   "outputs": [],
   "source": [
    "feature_dir = 'data/features/'"
   ]
  },
  {
   "cell_type": "code",
   "execution_count": 88,
   "metadata": {
    "collapsed": true
   },
   "outputs": [],
   "source": [
    "def run_experiment(model, X, y):\n",
    "    scores = []\n",
    "    kf = KFold(n_splits=5)\n",
    "    for train_index, test_index in kf.split(X):\n",
    "        X_train, X_test, y_train, y_test = X.iloc[train_index],X.iloc[test_index], y.iloc[train_index], y.iloc[test_index]\n",
    "        model.fit(X_train, y_train)\n",
    "        scores.append(model.score(X_test, y_test))\n",
    "    print('Scores',scores)\n",
    "    print('Average score', sum(scores)/len(scores))"
   ]
  },
  {
   "cell_type": "code",
   "execution_count": 89,
   "metadata": {
    "collapsed": true
   },
   "outputs": [],
   "source": [
    "df_twitter = pd.read_csv(feature_dir+'twitter_features.csv')\n",
    "df_news = pd.read_csv(feature_dir+'news_features.csv')\n",
    "df_out= pd.read_csv(feature_dir+'stock_features.csv')"
   ]
  },
  {
   "cell_type": "code",
   "execution_count": 90,
   "metadata": {
    "collapsed": true
   },
   "outputs": [],
   "source": [
    "clf = SVC(C=1.0)\n",
    "clf2 = SVR(C=1.0)"
   ]
  },
  {
   "cell_type": "code",
   "execution_count": 91,
   "metadata": {
    "collapsed": true
   },
   "outputs": [],
   "source": [
    "df_y = df_out\n",
    "df_X = pd.merge(df_twitter, df_news, on='Date', how='outer')"
   ]
  },
  {
   "cell_type": "code",
   "execution_count": 92,
   "metadata": {},
   "outputs": [
    {
     "data": {
      "text/html": [
       "<div>\n",
       "<style scoped>\n",
       "    .dataframe tbody tr th:only-of-type {\n",
       "        vertical-align: middle;\n",
       "    }\n",
       "\n",
       "    .dataframe tbody tr th {\n",
       "        vertical-align: top;\n",
       "    }\n",
       "\n",
       "    .dataframe thead th {\n",
       "        text-align: right;\n",
       "    }\n",
       "</style>\n",
       "<table border=\"1\" class=\"dataframe\">\n",
       "  <thead>\n",
       "    <tr style=\"text-align: right;\">\n",
       "      <th></th>\n",
       "      <th>Date</th>\n",
       "      <th>Change VIX</th>\n",
       "      <th>Lag 2 Change VIX</th>\n",
       "      <th>Lag 2 Significant VIX</th>\n",
       "      <th>Change SPY</th>\n",
       "      <th>Lag 2 Change SPY</th>\n",
       "      <th>Lag 2 Significant SPY</th>\n",
       "    </tr>\n",
       "  </thead>\n",
       "  <tbody>\n",
       "    <tr>\n",
       "      <td>0</td>\n",
       "      <td>2015-01-02</td>\n",
       "      <td>0.116279</td>\n",
       "      <td>0.144707</td>\n",
       "      <td>1</td>\n",
       "      <td>-0.007741</td>\n",
       "      <td>-0.020787</td>\n",
       "      <td>-1</td>\n",
       "    </tr>\n",
       "    <tr>\n",
       "      <td>1</td>\n",
       "      <td>2015-01-05</td>\n",
       "      <td>0.080518</td>\n",
       "      <td>0.050026</td>\n",
       "      <td>1</td>\n",
       "      <td>-0.010708</td>\n",
       "      <td>-0.013469</td>\n",
       "      <td>-1</td>\n",
       "    </tr>\n",
       "    <tr>\n",
       "      <td>2</td>\n",
       "      <td>2015-01-06</td>\n",
       "      <td>0.059406</td>\n",
       "      <td>-0.118052</td>\n",
       "      <td>-1</td>\n",
       "      <td>-0.010188</td>\n",
       "      <td>0.009501</td>\n",
       "      <td>0</td>\n",
       "    </tr>\n",
       "    <tr>\n",
       "      <td>3</td>\n",
       "      <td>2015-01-07</td>\n",
       "      <td>-0.008854</td>\n",
       "      <td>-0.184119</td>\n",
       "      <td>-1</td>\n",
       "      <td>-0.003315</td>\n",
       "      <td>0.024724</td>\n",
       "      <td>1</td>\n",
       "    </tr>\n",
       "    <tr>\n",
       "      <td>4</td>\n",
       "      <td>2015-01-08</td>\n",
       "      <td>-0.110174</td>\n",
       "      <td>0.005020</td>\n",
       "      <td>0</td>\n",
       "      <td>0.012859</td>\n",
       "      <td>0.001961</td>\n",
       "      <td>0</td>\n",
       "    </tr>\n",
       "    <tr>\n",
       "      <td>...</td>\n",
       "      <td>...</td>\n",
       "      <td>...</td>\n",
       "      <td>...</td>\n",
       "      <td>...</td>\n",
       "      <td>...</td>\n",
       "      <td>...</td>\n",
       "      <td>...</td>\n",
       "    </tr>\n",
       "    <tr>\n",
       "      <td>499</td>\n",
       "      <td>2016-12-23</td>\n",
       "      <td>0.005300</td>\n",
       "      <td>0.044815</td>\n",
       "      <td>1</td>\n",
       "      <td>-0.000754</td>\n",
       "      <td>0.005057</td>\n",
       "      <td>0</td>\n",
       "    </tr>\n",
       "    <tr>\n",
       "      <td>500</td>\n",
       "      <td>2016-12-27</td>\n",
       "      <td>0.077329</td>\n",
       "      <td>0.072594</td>\n",
       "      <td>1</td>\n",
       "      <td>0.002617</td>\n",
       "      <td>-0.006814</td>\n",
       "      <td>0</td>\n",
       "    </tr>\n",
       "    <tr>\n",
       "      <td>501</td>\n",
       "      <td>2016-12-28</td>\n",
       "      <td>-0.030179</td>\n",
       "      <td>0.110177</td>\n",
       "      <td>1</td>\n",
       "      <td>0.002433</td>\n",
       "      <td>-0.008121</td>\n",
       "      <td>0</td>\n",
       "    </tr>\n",
       "    <tr>\n",
       "      <td>502</td>\n",
       "      <td>2016-12-29</td>\n",
       "      <td>0.105971</td>\n",
       "      <td>0.069962</td>\n",
       "      <td>1</td>\n",
       "      <td>-0.009225</td>\n",
       "      <td>0.002495</td>\n",
       "      <td>0</td>\n",
       "    </tr>\n",
       "    <tr>\n",
       "      <td>503</td>\n",
       "      <td>2016-12-30</td>\n",
       "      <td>0.003802</td>\n",
       "      <td>-0.031818</td>\n",
       "      <td>-1</td>\n",
       "      <td>0.001114</td>\n",
       "      <td>0.003960</td>\n",
       "      <td>0</td>\n",
       "    </tr>\n",
       "  </tbody>\n",
       "</table>\n",
       "<p>504 rows × 7 columns</p>\n",
       "</div>"
      ],
      "text/plain": [
       "           Date  Change VIX  Lag 2 Change VIX  Lag 2 Significant VIX  \\\n",
       "0    2015-01-02    0.116279          0.144707                      1   \n",
       "1    2015-01-05    0.080518          0.050026                      1   \n",
       "2    2015-01-06    0.059406         -0.118052                     -1   \n",
       "3    2015-01-07   -0.008854         -0.184119                     -1   \n",
       "4    2015-01-08   -0.110174          0.005020                      0   \n",
       "..          ...         ...               ...                    ...   \n",
       "499  2016-12-23    0.005300          0.044815                      1   \n",
       "500  2016-12-27    0.077329          0.072594                      1   \n",
       "501  2016-12-28   -0.030179          0.110177                      1   \n",
       "502  2016-12-29    0.105971          0.069962                      1   \n",
       "503  2016-12-30    0.003802         -0.031818                     -1   \n",
       "\n",
       "     Change SPY  Lag 2 Change SPY  Lag 2 Significant SPY  \n",
       "0     -0.007741         -0.020787                     -1  \n",
       "1     -0.010708         -0.013469                     -1  \n",
       "2     -0.010188          0.009501                      0  \n",
       "3     -0.003315          0.024724                      1  \n",
       "4      0.012859          0.001961                      0  \n",
       "..          ...               ...                    ...  \n",
       "499   -0.000754          0.005057                      0  \n",
       "500    0.002617         -0.006814                      0  \n",
       "501    0.002433         -0.008121                      0  \n",
       "502   -0.009225          0.002495                      0  \n",
       "503    0.001114          0.003960                      0  \n",
       "\n",
       "[504 rows x 7 columns]"
      ]
     },
     "execution_count": 92,
     "metadata": {},
     "output_type": "execute_result"
    }
   ],
   "source": [
    "df_y"
   ]
  },
  {
   "cell_type": "code",
   "execution_count": 93,
   "metadata": {
    "collapsed": true
   },
   "outputs": [],
   "source": [
    "X = df_X.reset_index(drop=True)\n",
    "y = df_y.reset_index(drop=True)\n",
    "X = X.drop(columns=['Date'])\n",
    "X.fillna(X.mean(), inplace=True)\n",
    "y = y['Lag 2 Significant VIX']\n",
    "y.fillna(y.mean(), inplace=True)"
   ]
  },
  {
   "cell_type": "code",
   "execution_count": 94,
   "metadata": {},
   "outputs": [
    {
     "data": {
      "text/html": [
       "<div>\n",
       "<style scoped>\n",
       "    .dataframe tbody tr th:only-of-type {\n",
       "        vertical-align: middle;\n",
       "    }\n",
       "\n",
       "    .dataframe tbody tr th {\n",
       "        vertical-align: top;\n",
       "    }\n",
       "\n",
       "    .dataframe thead th {\n",
       "        text-align: right;\n",
       "    }\n",
       "</style>\n",
       "<table border=\"1\" class=\"dataframe\">\n",
       "  <thead>\n",
       "    <tr style=\"text-align: right;\">\n",
       "      <th></th>\n",
       "      <th>BarackObama_sentiment_score</th>\n",
       "      <th>cnnbrk_sentiment_score</th>\n",
       "      <th>KimKardashian_sentiment_score</th>\n",
       "      <th>New York Times_sentiment_score</th>\n",
       "      <th>CNN_sentiment_score</th>\n",
       "      <th>Washington Post_sentiment_score</th>\n",
       "    </tr>\n",
       "  </thead>\n",
       "  <tbody>\n",
       "    <tr>\n",
       "      <td>0</td>\n",
       "      <td>0.816094</td>\n",
       "      <td>-2.54383</td>\n",
       "      <td>1.504453</td>\n",
       "      <td>-1.230945</td>\n",
       "      <td>-4.2102</td>\n",
       "      <td>-1.884661</td>\n",
       "    </tr>\n",
       "    <tr>\n",
       "      <td>1</td>\n",
       "      <td>1.220500</td>\n",
       "      <td>-2.54383</td>\n",
       "      <td>1.504453</td>\n",
       "      <td>-1.230945</td>\n",
       "      <td>-1.4093</td>\n",
       "      <td>-1.884661</td>\n",
       "    </tr>\n",
       "    <tr>\n",
       "      <td>2</td>\n",
       "      <td>0.643600</td>\n",
       "      <td>-2.54383</td>\n",
       "      <td>4.065300</td>\n",
       "      <td>-1.230945</td>\n",
       "      <td>1.0081</td>\n",
       "      <td>-1.884661</td>\n",
       "    </tr>\n",
       "    <tr>\n",
       "      <td>3</td>\n",
       "      <td>5.633600</td>\n",
       "      <td>-2.54383</td>\n",
       "      <td>0.915400</td>\n",
       "      <td>-1.230945</td>\n",
       "      <td>-0.9171</td>\n",
       "      <td>-1.884661</td>\n",
       "    </tr>\n",
       "    <tr>\n",
       "      <td>4</td>\n",
       "      <td>1.112100</td>\n",
       "      <td>-2.54383</td>\n",
       "      <td>1.715000</td>\n",
       "      <td>-1.230945</td>\n",
       "      <td>-2.5206</td>\n",
       "      <td>-1.884661</td>\n",
       "    </tr>\n",
       "    <tr>\n",
       "      <td>...</td>\n",
       "      <td>...</td>\n",
       "      <td>...</td>\n",
       "      <td>...</td>\n",
       "      <td>...</td>\n",
       "      <td>...</td>\n",
       "      <td>...</td>\n",
       "    </tr>\n",
       "    <tr>\n",
       "      <td>499</td>\n",
       "      <td>0.816094</td>\n",
       "      <td>-3.50000</td>\n",
       "      <td>1.504453</td>\n",
       "      <td>0.366700</td>\n",
       "      <td>-3.5821</td>\n",
       "      <td>-2.920500</td>\n",
       "    </tr>\n",
       "    <tr>\n",
       "      <td>500</td>\n",
       "      <td>0.816094</td>\n",
       "      <td>-1.11410</td>\n",
       "      <td>1.504453</td>\n",
       "      <td>-0.991300</td>\n",
       "      <td>-3.0340</td>\n",
       "      <td>-0.117200</td>\n",
       "    </tr>\n",
       "    <tr>\n",
       "      <td>501</td>\n",
       "      <td>0.816094</td>\n",
       "      <td>-1.76330</td>\n",
       "      <td>1.504453</td>\n",
       "      <td>2.958000</td>\n",
       "      <td>-1.1407</td>\n",
       "      <td>-1.727400</td>\n",
       "    </tr>\n",
       "    <tr>\n",
       "      <td>502</td>\n",
       "      <td>0.816094</td>\n",
       "      <td>-0.24280</td>\n",
       "      <td>1.504453</td>\n",
       "      <td>0.990100</td>\n",
       "      <td>-0.4297</td>\n",
       "      <td>-0.282200</td>\n",
       "    </tr>\n",
       "    <tr>\n",
       "      <td>503</td>\n",
       "      <td>0.816094</td>\n",
       "      <td>-1.99980</td>\n",
       "      <td>1.504453</td>\n",
       "      <td>0.105000</td>\n",
       "      <td>-4.0117</td>\n",
       "      <td>0.694400</td>\n",
       "    </tr>\n",
       "  </tbody>\n",
       "</table>\n",
       "<p>504 rows × 6 columns</p>\n",
       "</div>"
      ],
      "text/plain": [
       "     BarackObama_sentiment_score  cnnbrk_sentiment_score  \\\n",
       "0                       0.816094                -2.54383   \n",
       "1                       1.220500                -2.54383   \n",
       "2                       0.643600                -2.54383   \n",
       "3                       5.633600                -2.54383   \n",
       "4                       1.112100                -2.54383   \n",
       "..                           ...                     ...   \n",
       "499                     0.816094                -3.50000   \n",
       "500                     0.816094                -1.11410   \n",
       "501                     0.816094                -1.76330   \n",
       "502                     0.816094                -0.24280   \n",
       "503                     0.816094                -1.99980   \n",
       "\n",
       "     KimKardashian_sentiment_score  New York Times_sentiment_score  \\\n",
       "0                         1.504453                       -1.230945   \n",
       "1                         1.504453                       -1.230945   \n",
       "2                         4.065300                       -1.230945   \n",
       "3                         0.915400                       -1.230945   \n",
       "4                         1.715000                       -1.230945   \n",
       "..                             ...                             ...   \n",
       "499                       1.504453                        0.366700   \n",
       "500                       1.504453                       -0.991300   \n",
       "501                       1.504453                        2.958000   \n",
       "502                       1.504453                        0.990100   \n",
       "503                       1.504453                        0.105000   \n",
       "\n",
       "     CNN_sentiment_score  Washington Post_sentiment_score  \n",
       "0                -4.2102                        -1.884661  \n",
       "1                -1.4093                        -1.884661  \n",
       "2                 1.0081                        -1.884661  \n",
       "3                -0.9171                        -1.884661  \n",
       "4                -2.5206                        -1.884661  \n",
       "..                   ...                              ...  \n",
       "499              -3.5821                        -2.920500  \n",
       "500              -3.0340                        -0.117200  \n",
       "501              -1.1407                        -1.727400  \n",
       "502              -0.4297                        -0.282200  \n",
       "503              -4.0117                         0.694400  \n",
       "\n",
       "[504 rows x 6 columns]"
      ]
     },
     "execution_count": 94,
     "metadata": {},
     "output_type": "execute_result"
    }
   ],
   "source": [
    "X"
   ]
  },
  {
   "cell_type": "code",
   "execution_count": 95,
   "metadata": {},
   "outputs": [
    {
     "data": {
      "text/plain": [
       "-1    238\n",
       " 1    219\n",
       " 0     47\n",
       "Name: Lag 2 Significant VIX, dtype: int64"
      ]
     },
     "execution_count": 95,
     "metadata": {},
     "output_type": "execute_result"
    }
   ],
   "source": [
    "y.value_counts()"
   ]
  },
  {
   "cell_type": "code",
   "execution_count": 106,
   "metadata": {},
   "outputs": [],
   "source": [
    "# Guessing Most common class always\n",
    "succ = y.value_counts().max()/(y.count())"
   ]
  },
  {
   "cell_type": "code",
   "execution_count": 107,
   "metadata": {},
   "outputs": [
    {
     "data": {
      "text/plain": [
       "0.4722222222222222"
      ]
     },
     "execution_count": 107,
     "metadata": {},
     "output_type": "execute_result"
    }
   ],
   "source": [
    "succ"
   ]
  },
  {
   "cell_type": "code",
   "execution_count": 96,
   "metadata": {},
   "outputs": [
    {
     "name": "stdout",
     "output_type": "stream",
     "text": [
      "Scores [0.46534653465346537, 0.5247524752475248, 0.5148514851485149, 0.504950495049505, 0.51]\n",
      "Average score 0.503980198019802\n"
     ]
    }
   ],
   "source": [
    "run_experiment(clf, X, y)"
   ]
  },
  {
   "cell_type": "code",
   "execution_count": 97,
   "metadata": {
    "collapsed": true
   },
   "outputs": [],
   "source": [
    "def rfc_param_selection(X, y):\n",
    "    n_estims= [200, 700]\n",
    "    max_feats= ['auto', 'sqrt', 'log2']\n",
    "    param_grid = {'n_estimators': n_estims, 'max_features' : max_feats}\n",
    "    grid_search = GridSearchCV(RandomForestClassifier(), param_grid, cv=5)\n",
    "    grid_search.fit(X, y)\n",
    "    grid_search.best_params_\n",
    "    print(grid_search.best_estimator_)\n",
    "    print(grid_search.best_score_)\n",
    "    return grid_search.best_params_"
   ]
  },
  {
   "cell_type": "code",
   "execution_count": 98,
   "metadata": {
    "collapsed": true
   },
   "outputs": [],
   "source": [
    "def svc_param_selection(X, y):\n",
    "    kernels = ['rbf','linear']\n",
    "    Cs = [0.001, 0.01, 0.1, 1, 10]\n",
    "    gammas = [0.001, 0.01, 0.1, 1]\n",
    "    param_grid = {'C': Cs, 'gamma' : gammas, 'kernel':kernels}\n",
    "    grid_search = GridSearchCV(SVC(), param_grid, cv=5)\n",
    "    grid_search.fit(X, y)\n",
    "    grid_search.best_params_\n",
    "    print(grid_search.best_estimator_)\n",
    "    print(grid_search.best_score_)\n",
    "    return grid_search.best_params_"
   ]
  },
  {
   "cell_type": "code",
   "execution_count": 99,
   "metadata": {},
   "outputs": [
    {
     "name": "stdout",
     "output_type": "stream",
     "text": [
      "SVC(C=1, break_ties=False, cache_size=200, class_weight=None, coef0=0.0,\n",
      "    decision_function_shape='ovr', degree=3, gamma=0.1, kernel='rbf',\n",
      "    max_iter=-1, probability=False, random_state=None, shrinking=True,\n",
      "    tol=0.001, verbose=False)\n",
      "0.505960396039604\n"
     ]
    },
    {
     "data": {
      "text/plain": [
       "{'C': 1, 'gamma': 0.1, 'kernel': 'rbf'}"
      ]
     },
     "execution_count": 99,
     "metadata": {},
     "output_type": "execute_result"
    }
   ],
   "source": [
    "svc_param_selection(X,y)"
   ]
  },
  {
   "cell_type": "code",
   "execution_count": 100,
   "metadata": {},
   "outputs": [
    {
     "name": "stdout",
     "output_type": "stream",
     "text": [
      "RandomForestClassifier(bootstrap=True, ccp_alpha=0.0, class_weight=None,\n",
      "                       criterion='gini', max_depth=None, max_features='log2',\n",
      "                       max_leaf_nodes=None, max_samples=None,\n",
      "                       min_impurity_decrease=0.0, min_impurity_split=None,\n",
      "                       min_samples_leaf=1, min_samples_split=2,\n",
      "                       min_weight_fraction_leaf=0.0, n_estimators=200,\n",
      "                       n_jobs=None, oob_score=False, random_state=None,\n",
      "                       verbose=0, warm_start=False)\n",
      "0.501980198019802\n"
     ]
    },
    {
     "data": {
      "text/plain": [
       "{'max_features': 'log2', 'n_estimators': 200}"
      ]
     },
     "execution_count": 100,
     "metadata": {},
     "output_type": "execute_result"
    }
   ],
   "source": [
    "rfc_param_selection(X,y)"
   ]
  },
  {
   "cell_type": "code",
   "execution_count": 112,
   "metadata": {},
   "outputs": [
    {
     "name": "stdout",
     "output_type": "stream",
     "text": [
      "Scores [0.48514851485148514, 0.5148514851485149, 0.5346534653465347, 0.5148514851485149, 0.51]\n",
      "Average score 0.5119009900990099\n"
     ]
    }
   ],
   "source": [
    "model = RandomForestClassifier(max_features='log2',n_estimators=200)\n",
    "run_experiment(model, X, y)"
   ]
  },
  {
   "cell_type": "code",
   "execution_count": 115,
   "metadata": {},
   "outputs": [
    {
     "name": "stdout",
     "output_type": "stream",
     "text": [
      "Scores [0.504950495049505, 0.5544554455445545, 0.49504950495049505, 0.5148514851485149, 0.47]\n",
      "Average score 0.5078613861386139\n"
     ]
    }
   ],
   "source": [
    "model = SVC(C=1, gamma=.1, kernel='rbf')\n",
    "run_experiment(model, X, y)"
   ]
  },
  {
   "cell_type": "code",
   "execution_count": null,
   "metadata": {
    "collapsed": true
   },
   "outputs": [],
   "source": []
  },
  {
   "cell_type": "code",
   "execution_count": null,
   "metadata": {
    "collapsed": true
   },
   "outputs": [],
   "source": []
  }
 ],
 "metadata": {
  "kernelspec": {
   "display_name": "Python 3",
   "language": "python",
   "name": "python3"
  },
  "language_info": {
   "codemirror_mode": {
    "name": "ipython",
    "version": 3
   },
   "file_extension": ".py",
   "mimetype": "text/x-python",
   "name": "python",
   "nbconvert_exporter": "python",
   "pygments_lexer": "ipython3",
   "version": "3.6.2"
  }
 },
 "nbformat": 4,
 "nbformat_minor": 2
}
