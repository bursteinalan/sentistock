{
 "cells": [
  {
   "cell_type": "code",
   "execution_count": 3,
   "metadata": {
    "collapsed": true
   },
   "outputs": [],
   "source": [
    "import pandas as pd\n",
    "import glob"
   ]
  },
  {
   "cell_type": "code",
   "execution_count": 2,
   "metadata": {
    "collapsed": true
   },
   "outputs": [],
   "source": [
    "data_dir = 'data/nyt/'"
   ]
  },
  {
   "cell_type": "code",
   "execution_count": 4,
   "metadata": {
    "collapsed": true
   },
   "outputs": [],
   "source": [
    "all_files = glob.glob(data_dir + \"/*.csv\")"
   ]
  },
  {
   "cell_type": "code",
   "execution_count": 6,
   "metadata": {},
   "outputs": [],
   "source": [
    "li = []\n",
    "\n",
    "for filename in all_files:\n",
    "    df = pd.read_csv(filename, header=0)\n",
    "    li.append(df)\n",
    "\n",
    "frame = pd.concat(li, axis=0, ignore_index=True)"
   ]
  },
  {
   "cell_type": "code",
   "execution_count": 10,
   "metadata": {},
   "outputs": [],
   "source": [
    "df = frame[['pub_date','headline']]"
   ]
  },
  {
   "cell_type": "code",
   "execution_count": 11,
   "metadata": {},
   "outputs": [
    {
     "data": {
      "text/html": [
       "<div>\n",
       "<style scoped>\n",
       "    .dataframe tbody tr th:only-of-type {\n",
       "        vertical-align: middle;\n",
       "    }\n",
       "\n",
       "    .dataframe tbody tr th {\n",
       "        vertical-align: top;\n",
       "    }\n",
       "\n",
       "    .dataframe thead th {\n",
       "        text-align: right;\n",
       "    }\n",
       "</style>\n",
       "<table border=\"1\" class=\"dataframe\">\n",
       "  <thead>\n",
       "    <tr style=\"text-align: right;\">\n",
       "      <th></th>\n",
       "      <th>pub_date</th>\n",
       "      <th>headline</th>\n",
       "    </tr>\n",
       "  </thead>\n",
       "  <tbody>\n",
       "    <tr>\n",
       "      <td>0</td>\n",
       "      <td>2016-10-01T04:00:00+0000</td>\n",
       "      <td>Donald Trump’s Letter</td>\n",
       "    </tr>\n",
       "    <tr>\n",
       "      <td>1</td>\n",
       "      <td>2016-10-01T21:12:35+0000</td>\n",
       "      <td>A Rabbi’s Enduring Sermon on Living Your Last ...</td>\n",
       "    </tr>\n",
       "    <tr>\n",
       "      <td>2</td>\n",
       "      <td>2016-10-01T04:00:00+0000</td>\n",
       "      <td>Nina Ricci: Spring 2017</td>\n",
       "    </tr>\n",
       "    <tr>\n",
       "      <td>3</td>\n",
       "      <td>2016-10-01T04:00:00+0000</td>\n",
       "      <td>How to Get Nina Ricci’s Sultry Slicked-Back Hair</td>\n",
       "    </tr>\n",
       "    <tr>\n",
       "      <td>4</td>\n",
       "      <td>2016-10-01T19:53:16+0000</td>\n",
       "      <td>For Orchestras in the U.S., So Much Depends on...</td>\n",
       "    </tr>\n",
       "    <tr>\n",
       "      <td>...</td>\n",
       "      <td>...</td>\n",
       "      <td>...</td>\n",
       "    </tr>\n",
       "    <tr>\n",
       "      <td>386336</td>\n",
       "      <td>2019-04-29T15:00:06+0000</td>\n",
       "      <td>How to Fight India’s Fake-News Epidemic</td>\n",
       "    </tr>\n",
       "    <tr>\n",
       "      <td>386337</td>\n",
       "      <td>2019-04-30T09:00:08+0000</td>\n",
       "      <td>Oliver Sacks’s Final, Posthumous Work</td>\n",
       "    </tr>\n",
       "    <tr>\n",
       "      <td>386338</td>\n",
       "      <td>2019-05-01T00:15:33+0000</td>\n",
       "      <td>It’s Infrastructure Week!</td>\n",
       "    </tr>\n",
       "    <tr>\n",
       "      <td>386339</td>\n",
       "      <td>2019-04-30T23:28:13+0000</td>\n",
       "      <td>Venezuelan Opposition Leader Steps Up Pressure...</td>\n",
       "    </tr>\n",
       "    <tr>\n",
       "      <td>386340</td>\n",
       "      <td>2019-04-30T09:00:11+0000</td>\n",
       "      <td>How Does Your Love of Wine Contribute to Clima...</td>\n",
       "    </tr>\n",
       "  </tbody>\n",
       "</table>\n",
       "<p>386341 rows × 2 columns</p>\n",
       "</div>"
      ],
      "text/plain": [
       "                        pub_date  \\\n",
       "0       2016-10-01T04:00:00+0000   \n",
       "1       2016-10-01T21:12:35+0000   \n",
       "2       2016-10-01T04:00:00+0000   \n",
       "3       2016-10-01T04:00:00+0000   \n",
       "4       2016-10-01T19:53:16+0000   \n",
       "...                          ...   \n",
       "386336  2019-04-29T15:00:06+0000   \n",
       "386337  2019-04-30T09:00:08+0000   \n",
       "386338  2019-05-01T00:15:33+0000   \n",
       "386339  2019-04-30T23:28:13+0000   \n",
       "386340  2019-04-30T09:00:11+0000   \n",
       "\n",
       "                                                 headline  \n",
       "0                                   Donald Trump’s Letter  \n",
       "1       A Rabbi’s Enduring Sermon on Living Your Last ...  \n",
       "2                                 Nina Ricci: Spring 2017  \n",
       "3        How to Get Nina Ricci’s Sultry Slicked-Back Hair  \n",
       "4       For Orchestras in the U.S., So Much Depends on...  \n",
       "...                                                   ...  \n",
       "386336            How to Fight India’s Fake-News Epidemic  \n",
       "386337              Oliver Sacks’s Final, Posthumous Work  \n",
       "386338                          It’s Infrastructure Week!  \n",
       "386339  Venezuelan Opposition Leader Steps Up Pressure...  \n",
       "386340  How Does Your Love of Wine Contribute to Clima...  \n",
       "\n",
       "[386341 rows x 2 columns]"
      ]
     },
     "execution_count": 11,
     "metadata": {},
     "output_type": "execute_result"
    }
   ],
   "source": [
    "df"
   ]
  },
  {
   "cell_type": "code",
   "execution_count": 12,
   "metadata": {
    "collapsed": true
   },
   "outputs": [],
   "source": [
    "df = df.rename(columns={'pub_date':'Date'})"
   ]
  },
  {
   "cell_type": "code",
   "execution_count": 21,
   "metadata": {},
   "outputs": [],
   "source": [
    "df['Date'] = pd.to_datetime(df['Date']).dt.normalize()"
   ]
  },
  {
   "cell_type": "code",
   "execution_count": 24,
   "metadata": {
    "collapsed": true
   },
   "outputs": [],
   "source": [
    "df = df.sort_values(by='Date')"
   ]
  },
  {
   "cell_type": "code",
   "execution_count": 25,
   "metadata": {},
   "outputs": [
    {
     "data": {
      "text/html": [
       "<div>\n",
       "<style scoped>\n",
       "    .dataframe tbody tr th:only-of-type {\n",
       "        vertical-align: middle;\n",
       "    }\n",
       "\n",
       "    .dataframe tbody tr th {\n",
       "        vertical-align: top;\n",
       "    }\n",
       "\n",
       "    .dataframe thead th {\n",
       "        text-align: right;\n",
       "    }\n",
       "</style>\n",
       "<table border=\"1\" class=\"dataframe\">\n",
       "  <thead>\n",
       "    <tr style=\"text-align: right;\">\n",
       "      <th></th>\n",
       "      <th>Date</th>\n",
       "      <th>headline</th>\n",
       "    </tr>\n",
       "  </thead>\n",
       "  <tbody>\n",
       "    <tr>\n",
       "      <td>332050</td>\n",
       "      <td>2015-01-01 00:00:00+00:00</td>\n",
       "      <td>Should We Add a Closet to a Small Bedroom?</td>\n",
       "    </tr>\n",
       "    <tr>\n",
       "      <td>332069</td>\n",
       "      <td>2015-01-01 00:00:00+00:00</td>\n",
       "      <td>Paid Notice: Deaths  SCHNITTKE, KARL D.</td>\n",
       "    </tr>\n",
       "    <tr>\n",
       "      <td>331969</td>\n",
       "      <td>2015-01-01 00:00:00+00:00</td>\n",
       "      <td>The Strip — 2015</td>\n",
       "    </tr>\n",
       "    <tr>\n",
       "      <td>331976</td>\n",
       "      <td>2015-01-01 00:00:00+00:00</td>\n",
       "      <td>The Strip — 2015</td>\n",
       "    </tr>\n",
       "    <tr>\n",
       "      <td>332202</td>\n",
       "      <td>2015-01-01 00:00:00+00:00</td>\n",
       "      <td>The Rise of Evgeny Lebedev</td>\n",
       "    </tr>\n",
       "    <tr>\n",
       "      <td>...</td>\n",
       "      <td>...</td>\n",
       "      <td>...</td>\n",
       "    </tr>\n",
       "    <tr>\n",
       "      <td>233109</td>\n",
       "      <td>2019-09-01 00:00:00+00:00</td>\n",
       "      <td>No Matter How You Slice It, a Stealthy Backhan...</td>\n",
       "    </tr>\n",
       "    <tr>\n",
       "      <td>233054</td>\n",
       "      <td>2019-09-01 00:00:00+00:00</td>\n",
       "      <td>A Once-in-a-Lifetime Reporting Dilemma: Should...</td>\n",
       "    </tr>\n",
       "    <tr>\n",
       "      <td>233136</td>\n",
       "      <td>2019-09-01 00:00:00+00:00</td>\n",
       "      <td>Lauren Kuhn, Alexander Bauman</td>\n",
       "    </tr>\n",
       "    <tr>\n",
       "      <td>233074</td>\n",
       "      <td>2019-09-01 00:00:00+00:00</td>\n",
       "      <td>Kate Edwards, Joey Serxner</td>\n",
       "    </tr>\n",
       "    <tr>\n",
       "      <td>233108</td>\n",
       "      <td>2019-09-01 00:00:00+00:00</td>\n",
       "      <td>The Amazing Treasure Trove of Bill Cunningham</td>\n",
       "    </tr>\n",
       "  </tbody>\n",
       "</table>\n",
       "<p>386341 rows × 2 columns</p>\n",
       "</div>"
      ],
      "text/plain": [
       "                            Date  \\\n",
       "332050 2015-01-01 00:00:00+00:00   \n",
       "332069 2015-01-01 00:00:00+00:00   \n",
       "331969 2015-01-01 00:00:00+00:00   \n",
       "331976 2015-01-01 00:00:00+00:00   \n",
       "332202 2015-01-01 00:00:00+00:00   \n",
       "...                          ...   \n",
       "233109 2019-09-01 00:00:00+00:00   \n",
       "233054 2019-09-01 00:00:00+00:00   \n",
       "233136 2019-09-01 00:00:00+00:00   \n",
       "233074 2019-09-01 00:00:00+00:00   \n",
       "233108 2019-09-01 00:00:00+00:00   \n",
       "\n",
       "                                                 headline  \n",
       "332050         Should We Add a Closet to a Small Bedroom?  \n",
       "332069            Paid Notice: Deaths  SCHNITTKE, KARL D.  \n",
       "331969                                   The Strip — 2015  \n",
       "331976                                   The Strip — 2015  \n",
       "332202                         The Rise of Evgeny Lebedev  \n",
       "...                                                   ...  \n",
       "233109  No Matter How You Slice It, a Stealthy Backhan...  \n",
       "233054  A Once-in-a-Lifetime Reporting Dilemma: Should...  \n",
       "233136                      Lauren Kuhn, Alexander Bauman  \n",
       "233074                         Kate Edwards, Joey Serxner  \n",
       "233108      The Amazing Treasure Trove of Bill Cunningham  \n",
       "\n",
       "[386341 rows x 2 columns]"
      ]
     },
     "execution_count": 25,
     "metadata": {},
     "output_type": "execute_result"
    }
   ],
   "source": [
    "df"
   ]
  },
  {
   "cell_type": "code",
   "execution_count": null,
   "metadata": {
    "collapsed": true
   },
   "outputs": [],
   "source": []
  }
 ],
 "metadata": {
  "kernelspec": {
   "display_name": "Python 3",
   "language": "python",
   "name": "python3"
  },
  "language_info": {
   "codemirror_mode": {
    "name": "ipython",
    "version": 3
   },
   "file_extension": ".py",
   "mimetype": "text/x-python",
   "name": "python",
   "nbconvert_exporter": "python",
   "pygments_lexer": "ipython3",
   "version": "3.6.2"
  }
 },
 "nbformat": 4,
 "nbformat_minor": 2
}
