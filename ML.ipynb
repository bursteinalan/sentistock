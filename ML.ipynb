{
 "cells": [
  {
   "cell_type": "code",
   "execution_count": 3,
   "metadata": {},
   "outputs": [],
   "source": [
    "import pandas as pd\n",
    "from functools import reduce\n",
    "\n",
    "from sklearn.model_selection import KFold\n",
    "from sklearn.ensemble import RandomForestClassifier\n",
    "from sklearn.model_selection import GridSearchCV\n",
    "from sklearn.svm import SVC, SVR"
   ]
  },
  {
   "cell_type": "code",
   "execution_count": 7,
   "metadata": {
    "collapsed": true
   },
   "outputs": [],
   "source": [
    "def run_experiment(model, X, y):\n",
    "    scores = []\n",
    "    kf = KFold(n_splits=5)\n",
    "    for train_index, test_index in kf.split(X):\n",
    "        X_train, X_test, y_train, y_test = X.iloc[train_index],X.iloc[test_index], y.iloc[train_index], y.iloc[test_index]\n",
    "        model.fit(X_train, y_train)\n",
    "        scores.append(model.score(X_test, y_test))\n",
    "    print('Scores',scores)\n",
    "    print('Average score', sum(scores)/len(scores))"
   ]
  },
  {
   "cell_type": "code",
   "execution_count": 8,
   "metadata": {
    "collapsed": true
   },
   "outputs": [],
   "source": [
    "feature_files = ['BarackObama', 'CNN', 'New York Times']\n",
    "predict_files = ['VIX_Proc']"
   ]
  },
  {
   "cell_type": "code",
   "execution_count": 9,
   "metadata": {
    "collapsed": true
   },
   "outputs": [],
   "source": [
    "first_date = pd.to_datetime('1/1/2015')\n",
    "last_date = pd.to_datetime('1/1/2017')"
   ]
  },
  {
   "cell_type": "code",
   "execution_count": 10,
   "metadata": {
    "collapsed": true
   },
   "outputs": [],
   "source": [
    "dfs = []\n",
    "for feature in feature_files:\n",
    "    df = pd.read_csv(feature+'.csv', parse_dates=['Date'])\n",
    "    df['Date']= pd.to_datetime(df['Date'].dt.normalize())\n",
    "    df[feature+'_sentiment_score'] = df['sentiment_score']\n",
    "    df = df[['Date', feature+'_sentiment_score']]\n",
    "    df = df[df['Date']<last_date]\n",
    "    df = df[df['Date']>first_date]\n",
    "    df = df.groupby('Date').sum()\n",
    "    dfs.append(df)\n",
    "    "
   ]
  },
  {
   "cell_type": "code",
   "execution_count": 11,
   "metadata": {
    "collapsed": true
   },
   "outputs": [],
   "source": [
    "dfs_out = []\n",
    "for output in predict_files:\n",
    "    df = pd.read_csv(output+'.csv', parse_dates=['Date'])\n",
    "    df['Date']= pd.to_datetime(df['Date'].dt.normalize())\n",
    "    df = df[df['Date']<last_date]\n",
    "    df = df[df['Date']>first_date]\n",
    "    dfs_out.append(df)"
   ]
  },
  {
   "cell_type": "code",
   "execution_count": 12,
   "metadata": {
    "collapsed": true
   },
   "outputs": [],
   "source": [
    "df_y = reduce(lambda  left,right: pd.merge(left,right,on=['Date'],\n",
    "                                            how='outer'), dfs_out)"
   ]
  },
  {
   "cell_type": "code",
   "execution_count": 13,
   "metadata": {
    "collapsed": true
   },
   "outputs": [],
   "source": [
    "df_X = reduce(lambda  left,right: pd.merge(left,right,on=['Date'],\n",
    "                                            how='outer'), dfs)"
   ]
  },
  {
   "cell_type": "code",
   "execution_count": 14,
   "metadata": {
    "collapsed": true
   },
   "outputs": [],
   "source": [
    "predict_dates = df_y['Date']"
   ]
  },
  {
   "cell_type": "code",
   "execution_count": 15,
   "metadata": {
    "collapsed": true
   },
   "outputs": [],
   "source": [
    "#FOR NOW ONLY DELETE THE WEEKENDS\n",
    "df_X = pd.merge(predict_dates, df_X, on=[\"Date\"], how='left')"
   ]
  },
  {
   "cell_type": "code",
   "execution_count": 16,
   "metadata": {
    "collapsed": true
   },
   "outputs": [],
   "source": [
    "clf = SVC(C=1.0)\n",
    "clf2 = SVR(C=1.0)"
   ]
  },
  {
   "cell_type": "code",
   "execution_count": 17,
   "metadata": {},
   "outputs": [
    {
     "data": {
      "text/html": [
       "<div>\n",
       "<style scoped>\n",
       "    .dataframe tbody tr th:only-of-type {\n",
       "        vertical-align: middle;\n",
       "    }\n",
       "\n",
       "    .dataframe tbody tr th {\n",
       "        vertical-align: top;\n",
       "    }\n",
       "\n",
       "    .dataframe thead th {\n",
       "        text-align: right;\n",
       "    }\n",
       "</style>\n",
       "<table border=\"1\" class=\"dataframe\">\n",
       "  <thead>\n",
       "    <tr style=\"text-align: right;\">\n",
       "      <th></th>\n",
       "      <th>Date</th>\n",
       "      <th>Price</th>\n",
       "      <th>Change</th>\n",
       "      <th>Lag 2 Price</th>\n",
       "      <th>2 Day Change</th>\n",
       "      <th>2 Day Direction</th>\n",
       "    </tr>\n",
       "  </thead>\n",
       "  <tbody>\n",
       "    <tr>\n",
       "      <td>3773</td>\n",
       "      <td>2015-01-02</td>\n",
       "      <td>17.76</td>\n",
       "      <td>0.116279</td>\n",
       "      <td>20.33</td>\n",
       "      <td>0.144707</td>\n",
       "      <td>1</td>\n",
       "    </tr>\n",
       "    <tr>\n",
       "      <td>3774</td>\n",
       "      <td>2015-01-05</td>\n",
       "      <td>19.19</td>\n",
       "      <td>0.080518</td>\n",
       "      <td>20.15</td>\n",
       "      <td>0.050026</td>\n",
       "      <td>1</td>\n",
       "    </tr>\n",
       "    <tr>\n",
       "      <td>3775</td>\n",
       "      <td>2015-01-06</td>\n",
       "      <td>20.33</td>\n",
       "      <td>0.059406</td>\n",
       "      <td>17.93</td>\n",
       "      <td>-0.118052</td>\n",
       "      <td>-1</td>\n",
       "    </tr>\n",
       "    <tr>\n",
       "      <td>3776</td>\n",
       "      <td>2015-01-07</td>\n",
       "      <td>20.15</td>\n",
       "      <td>-0.008854</td>\n",
       "      <td>16.44</td>\n",
       "      <td>-0.184119</td>\n",
       "      <td>-1</td>\n",
       "    </tr>\n",
       "    <tr>\n",
       "      <td>3777</td>\n",
       "      <td>2015-01-08</td>\n",
       "      <td>17.93</td>\n",
       "      <td>-0.110174</td>\n",
       "      <td>18.02</td>\n",
       "      <td>0.005020</td>\n",
       "      <td>1</td>\n",
       "    </tr>\n",
       "    <tr>\n",
       "      <td>...</td>\n",
       "      <td>...</td>\n",
       "      <td>...</td>\n",
       "      <td>...</td>\n",
       "      <td>...</td>\n",
       "      <td>...</td>\n",
       "      <td>...</td>\n",
       "    </tr>\n",
       "    <tr>\n",
       "      <td>4272</td>\n",
       "      <td>2016-12-23</td>\n",
       "      <td>11.38</td>\n",
       "      <td>0.005300</td>\n",
       "      <td>11.89</td>\n",
       "      <td>0.044815</td>\n",
       "      <td>1</td>\n",
       "    </tr>\n",
       "    <tr>\n",
       "      <td>4273</td>\n",
       "      <td>2016-12-27</td>\n",
       "      <td>12.26</td>\n",
       "      <td>0.077329</td>\n",
       "      <td>13.15</td>\n",
       "      <td>0.072594</td>\n",
       "      <td>1</td>\n",
       "    </tr>\n",
       "    <tr>\n",
       "      <td>4274</td>\n",
       "      <td>2016-12-28</td>\n",
       "      <td>11.89</td>\n",
       "      <td>-0.030179</td>\n",
       "      <td>13.20</td>\n",
       "      <td>0.110177</td>\n",
       "      <td>1</td>\n",
       "    </tr>\n",
       "    <tr>\n",
       "      <td>4275</td>\n",
       "      <td>2016-12-29</td>\n",
       "      <td>13.15</td>\n",
       "      <td>0.105971</td>\n",
       "      <td>14.07</td>\n",
       "      <td>0.069962</td>\n",
       "      <td>1</td>\n",
       "    </tr>\n",
       "    <tr>\n",
       "      <td>4276</td>\n",
       "      <td>2016-12-30</td>\n",
       "      <td>13.20</td>\n",
       "      <td>0.003802</td>\n",
       "      <td>12.78</td>\n",
       "      <td>-0.031818</td>\n",
       "      <td>-1</td>\n",
       "    </tr>\n",
       "  </tbody>\n",
       "</table>\n",
       "<p>504 rows × 6 columns</p>\n",
       "</div>"
      ],
      "text/plain": [
       "           Date  Price    Change  Lag 2 Price  2 Day Change  2 Day Direction\n",
       "3773 2015-01-02  17.76  0.116279        20.33      0.144707                1\n",
       "3774 2015-01-05  19.19  0.080518        20.15      0.050026                1\n",
       "3775 2015-01-06  20.33  0.059406        17.93     -0.118052               -1\n",
       "3776 2015-01-07  20.15 -0.008854        16.44     -0.184119               -1\n",
       "3777 2015-01-08  17.93 -0.110174        18.02      0.005020                1\n",
       "...         ...    ...       ...          ...           ...              ...\n",
       "4272 2016-12-23  11.38  0.005300        11.89      0.044815                1\n",
       "4273 2016-12-27  12.26  0.077329        13.15      0.072594                1\n",
       "4274 2016-12-28  11.89 -0.030179        13.20      0.110177                1\n",
       "4275 2016-12-29  13.15  0.105971        14.07      0.069962                1\n",
       "4276 2016-12-30  13.20  0.003802        12.78     -0.031818               -1\n",
       "\n",
       "[504 rows x 6 columns]"
      ]
     },
     "execution_count": 17,
     "metadata": {},
     "output_type": "execute_result"
    }
   ],
   "source": [
    "df_y"
   ]
  },
  {
   "cell_type": "code",
   "execution_count": 18,
   "metadata": {
    "collapsed": true
   },
   "outputs": [],
   "source": [
    "X = df_X.reset_index(drop=True)\n",
    "y = df_y.reset_index(drop=True)\n",
    "X = X.drop(columns=['Date'])\n",
    "X.fillna(X.mean(), inplace=True)\n",
    "y = y['2 Day Direction']\n",
    "y.fillna(y.mean(), inplace=True)"
   ]
  },
  {
   "cell_type": "code",
   "execution_count": 19,
   "metadata": {},
   "outputs": [
    {
     "data": {
      "text/html": [
       "<div>\n",
       "<style scoped>\n",
       "    .dataframe tbody tr th:only-of-type {\n",
       "        vertical-align: middle;\n",
       "    }\n",
       "\n",
       "    .dataframe tbody tr th {\n",
       "        vertical-align: top;\n",
       "    }\n",
       "\n",
       "    .dataframe thead th {\n",
       "        text-align: right;\n",
       "    }\n",
       "</style>\n",
       "<table border=\"1\" class=\"dataframe\">\n",
       "  <thead>\n",
       "    <tr style=\"text-align: right;\">\n",
       "      <th></th>\n",
       "      <th>BarackObama_sentiment_score</th>\n",
       "      <th>CNN_sentiment_score</th>\n",
       "      <th>New York Times_sentiment_score</th>\n",
       "    </tr>\n",
       "  </thead>\n",
       "  <tbody>\n",
       "    <tr>\n",
       "      <td>0</td>\n",
       "      <td>0.816094</td>\n",
       "      <td>-4.2102</td>\n",
       "      <td>-1.230945</td>\n",
       "    </tr>\n",
       "    <tr>\n",
       "      <td>1</td>\n",
       "      <td>1.220500</td>\n",
       "      <td>-1.4093</td>\n",
       "      <td>-1.230945</td>\n",
       "    </tr>\n",
       "    <tr>\n",
       "      <td>2</td>\n",
       "      <td>0.643600</td>\n",
       "      <td>1.0081</td>\n",
       "      <td>-1.230945</td>\n",
       "    </tr>\n",
       "    <tr>\n",
       "      <td>3</td>\n",
       "      <td>5.633600</td>\n",
       "      <td>-0.9171</td>\n",
       "      <td>-1.230945</td>\n",
       "    </tr>\n",
       "    <tr>\n",
       "      <td>4</td>\n",
       "      <td>1.112100</td>\n",
       "      <td>-2.5206</td>\n",
       "      <td>-1.230945</td>\n",
       "    </tr>\n",
       "    <tr>\n",
       "      <td>...</td>\n",
       "      <td>...</td>\n",
       "      <td>...</td>\n",
       "      <td>...</td>\n",
       "    </tr>\n",
       "    <tr>\n",
       "      <td>499</td>\n",
       "      <td>0.816094</td>\n",
       "      <td>-3.5821</td>\n",
       "      <td>0.366700</td>\n",
       "    </tr>\n",
       "    <tr>\n",
       "      <td>500</td>\n",
       "      <td>0.816094</td>\n",
       "      <td>-3.0340</td>\n",
       "      <td>-0.991300</td>\n",
       "    </tr>\n",
       "    <tr>\n",
       "      <td>501</td>\n",
       "      <td>0.816094</td>\n",
       "      <td>-1.1407</td>\n",
       "      <td>2.958000</td>\n",
       "    </tr>\n",
       "    <tr>\n",
       "      <td>502</td>\n",
       "      <td>0.816094</td>\n",
       "      <td>-0.4297</td>\n",
       "      <td>0.990100</td>\n",
       "    </tr>\n",
       "    <tr>\n",
       "      <td>503</td>\n",
       "      <td>0.816094</td>\n",
       "      <td>-4.0117</td>\n",
       "      <td>0.105000</td>\n",
       "    </tr>\n",
       "  </tbody>\n",
       "</table>\n",
       "<p>504 rows × 3 columns</p>\n",
       "</div>"
      ],
      "text/plain": [
       "     BarackObama_sentiment_score  CNN_sentiment_score  \\\n",
       "0                       0.816094              -4.2102   \n",
       "1                       1.220500              -1.4093   \n",
       "2                       0.643600               1.0081   \n",
       "3                       5.633600              -0.9171   \n",
       "4                       1.112100              -2.5206   \n",
       "..                           ...                  ...   \n",
       "499                     0.816094              -3.5821   \n",
       "500                     0.816094              -3.0340   \n",
       "501                     0.816094              -1.1407   \n",
       "502                     0.816094              -0.4297   \n",
       "503                     0.816094              -4.0117   \n",
       "\n",
       "     New York Times_sentiment_score  \n",
       "0                         -1.230945  \n",
       "1                         -1.230945  \n",
       "2                         -1.230945  \n",
       "3                         -1.230945  \n",
       "4                         -1.230945  \n",
       "..                              ...  \n",
       "499                        0.366700  \n",
       "500                       -0.991300  \n",
       "501                        2.958000  \n",
       "502                        0.990100  \n",
       "503                        0.105000  \n",
       "\n",
       "[504 rows x 3 columns]"
      ]
     },
     "execution_count": 19,
     "metadata": {},
     "output_type": "execute_result"
    }
   ],
   "source": [
    "X"
   ]
  },
  {
   "cell_type": "code",
   "execution_count": 20,
   "metadata": {},
   "outputs": [
    {
     "data": {
      "text/plain": [
       "0      1\n",
       "1      1\n",
       "2     -1\n",
       "3     -1\n",
       "4      1\n",
       "      ..\n",
       "499    1\n",
       "500    1\n",
       "501    1\n",
       "502    1\n",
       "503   -1\n",
       "Name: 2 Day Direction, Length: 504, dtype: int64"
      ]
     },
     "execution_count": 20,
     "metadata": {},
     "output_type": "execute_result"
    }
   ],
   "source": [
    "y"
   ]
  },
  {
   "cell_type": "code",
   "execution_count": 30,
   "metadata": {},
   "outputs": [
    {
     "name": "stdout",
     "output_type": "stream",
     "text": [
      "Scores [0.48514851485148514, 0.5841584158415841, 0.5445544554455446, 0.5445544554455446, 0.49]\n",
      "Average score 0.5296831683168317\n"
     ]
    }
   ],
   "source": [
    "run_experiment(clf, X, y)"
   ]
  },
  {
   "cell_type": "code",
   "execution_count": null,
   "metadata": {
    "collapsed": true
   },
   "outputs": [],
   "source": []
  },
  {
   "cell_type": "code",
   "execution_count": 44,
   "metadata": {},
   "outputs": [
    {
     "name": "stdout",
     "output_type": "stream",
     "text": [
      "Fitting 5 folds for each of 6 candidates, totalling 30 fits\n"
     ]
    },
    {
     "name": "stderr",
     "output_type": "stream",
     "text": [
      "[Parallel(n_jobs=1)]: Using backend SequentialBackend with 1 concurrent workers.\n",
      "[Parallel(n_jobs=1)]: Done  30 out of  30 | elapsed:   18.3s finished\n"
     ]
    },
    {
     "name": "stdout",
     "output_type": "stream",
     "text": [
      "RandomForestClassifier(bootstrap=True, ccp_alpha=0.0, class_weight=None,\n",
      "                       criterion='gini', max_depth=None, max_features='sqrt',\n",
      "                       max_leaf_nodes=None, max_samples=None,\n",
      "                       min_impurity_decrease=0.0, min_impurity_split=None,\n",
      "                       min_samples_leaf=1, min_samples_split=2,\n",
      "                       min_weight_fraction_leaf=0.0, n_estimators=700,\n",
      "                       n_jobs=None, oob_score=False, random_state=None,\n",
      "                       verbose=0, warm_start=False)\n",
      "0.527960396039604\n"
     ]
    }
   ],
   "source": [
    "rfc = RandomForestClassifier()\n",
    "param_grid = { \n",
    "'n_estimators': [200, 700],\n",
    "'max_features': ['auto', 'sqrt', 'log2']\n",
    "}\n",
    "CV_rfc = GridSearchCV(estimator=rfc, param_grid=param_grid, cv= 5, verbose=1)\n",
    "CV_rfc.fit(X,y)\n",
    "print(CV_rfc.best_estimator_)\n",
    "print(CV_rfc.best_score_)\n",
    "\n"
   ]
  },
  {
   "cell_type": "code",
   "execution_count": 66,
   "metadata": {
    "collapsed": true
   },
   "outputs": [],
   "source": [
    "def rfc_param_selection(X, y):\n",
    "    n_estims= [200, 700]\n",
    "    max_feats= ['auto', 'sqrt', 'log2']\n",
    "    param_grid = {'n_estimators': n_estims, 'max_features' : max_feats}\n",
    "    grid_search = GridSearchCV(RandomForestClassifier(), param_grid, cv=5)\n",
    "    grid_search.fit(X, y)\n",
    "    grid_search.best_params_\n",
    "    print(grid_search.best_estimator_)\n",
    "    print(grid_search.best_score_)\n",
    "    return grid_search.best_params_"
   ]
  },
  {
   "cell_type": "code",
   "execution_count": 59,
   "metadata": {
    "collapsed": true
   },
   "outputs": [],
   "source": [
    "def svc_param_selection(X, y):\n",
    "    kernels = ['rbf','linear']\n",
    "    Cs = [0.001, 0.01, 0.1, 1, 10]\n",
    "    gammas = [0.001, 0.01, 0.1, 1]\n",
    "    param_grid = {'C': Cs, 'gamma' : gammas, 'kernel':kernels}\n",
    "    grid_search = GridSearchCV(SVC(), param_grid, cv=5)\n",
    "    grid_search.fit(X, y)\n",
    "    grid_search.best_params_\n",
    "    print(grid_search.best_estimator_)\n",
    "    print(grid_search.best_score_)\n",
    "    return grid_search.best_params_"
   ]
  },
  {
   "cell_type": "code",
   "execution_count": 67,
   "metadata": {},
   "outputs": [
    {
     "name": "stdout",
     "output_type": "stream",
     "text": [
      "SVC(C=10, break_ties=False, cache_size=200, class_weight=None, coef0=0.0,\n",
      "    decision_function_shape='ovr', degree=3, gamma=1, kernel='rbf', max_iter=-1,\n",
      "    probability=False, random_state=None, shrinking=True, tol=0.001,\n",
      "    verbose=False)\n",
      "0.5555247524752476\n"
     ]
    },
    {
     "data": {
      "text/plain": [
       "{'C': 10, 'gamma': 1, 'kernel': 'rbf'}"
      ]
     },
     "execution_count": 67,
     "metadata": {},
     "output_type": "execute_result"
    }
   ],
   "source": [
    "svc_param_selection(X,y)"
   ]
  },
  {
   "cell_type": "code",
   "execution_count": 61,
   "metadata": {},
   "outputs": [
    {
     "name": "stdout",
     "output_type": "stream",
     "text": [
      "RandomForestClassifier(bootstrap=True, ccp_alpha=0.0, class_weight=None,\n",
      "                       criterion='gini', max_depth=None, max_features='sqrt',\n",
      "                       max_leaf_nodes=None, max_samples=None,\n",
      "                       min_impurity_decrease=0.0, min_impurity_split=None,\n",
      "                       min_samples_leaf=1, min_samples_split=2,\n",
      "                       min_weight_fraction_leaf=0.0, n_estimators=200,\n",
      "                       n_jobs=None, oob_score=False, random_state=None,\n",
      "                       verbose=0, warm_start=False)\n",
      "0.527920792079208\n"
     ]
    },
    {
     "data": {
      "text/plain": [
       "{'max_features': 'sqrt', 'n_estimators': 200}"
      ]
     },
     "execution_count": 61,
     "metadata": {},
     "output_type": "execute_result"
    }
   ],
   "source": [
    "rfc_param_selection(X,y)"
   ]
  },
  {
   "cell_type": "code",
   "execution_count": 62,
   "metadata": {},
   "outputs": [
    {
     "name": "stdout",
     "output_type": "stream",
     "text": [
      "Scores [0.5544554455445545, 0.5148514851485149, 0.4752475247524752, 0.48514851485148514, 0.62]\n",
      "Average score 0.529940594059406\n"
     ]
    }
   ],
   "source": [
    "model = RandomForestClassifier(max_features='sqrt',n_estimators=700)\n",
    "run_experiment(model, X, y)"
   ]
  },
  {
   "cell_type": "code",
   "execution_count": 65,
   "metadata": {},
   "outputs": [
    {
     "name": "stdout",
     "output_type": "stream",
     "text": [
      "Scores [0.5346534653465347, 0.5742574257425742, 0.48514851485148514, 0.46534653465346537, 0.53]\n",
      "Average score 0.5178811881188119\n"
     ]
    }
   ],
   "source": [
    "model = SVC(C=10, gamma=1, kernel='rbf')\n",
    "run_experiment(model, X, y)"
   ]
  },
  {
   "cell_type": "code",
   "execution_count": null,
   "metadata": {
    "collapsed": true
   },
   "outputs": [],
   "source": []
  },
  {
   "cell_type": "code",
   "execution_count": null,
   "metadata": {
    "collapsed": true
   },
   "outputs": [],
   "source": []
  }
 ],
 "metadata": {
  "kernelspec": {
   "display_name": "Python 3",
   "language": "python",
   "name": "python3"
  },
  "language_info": {
   "codemirror_mode": {
    "name": "ipython",
    "version": 3
   },
   "file_extension": ".py",
   "mimetype": "text/x-python",
   "name": "python",
   "nbconvert_exporter": "python",
   "pygments_lexer": "ipython3",
   "version": "3.6.2"
  }
 },
 "nbformat": 4,
 "nbformat_minor": 2
}
