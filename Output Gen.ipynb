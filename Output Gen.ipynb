{
 "cells": [
  {
   "cell_type": "code",
   "execution_count": 1,
   "metadata": {
    "collapsed": true
   },
   "outputs": [],
   "source": [
    "import pandas as pd"
   ]
  },
  {
   "cell_type": "code",
   "execution_count": 2,
   "metadata": {
    "collapsed": true
   },
   "outputs": [],
   "source": [
    "data_VIX = pd.read_csv('VIX.csv', parse_dates=['Date'])\n"
   ]
  },
  {
   "cell_type": "code",
   "execution_count": 4,
   "metadata": {
    "collapsed": true
   },
   "outputs": [],
   "source": [
    "def posOrNeg(val):\n",
    "    if val>0:\n",
    "        return 1\n",
    "    elif val<0:\n",
    "        return -1\n",
    "    else:\n",
    "        return 0"
   ]
  },
  {
   "cell_type": "code",
   "execution_count": 5,
   "metadata": {
    "collapsed": true
   },
   "outputs": [],
   "source": [
    "data_VIX['Lag 2 Price'] = data_VIX['Price'].shift(-2)\n",
    "data_VIX['2 Day Change'] = (data_VIX['Lag 2 Price'] - data_VIX['Price'])/data_VIX['Price']\n",
    "data_VIX['2 Day Direction'] = data_VIX['2 Day Change'].apply(posOrNeg)"
   ]
  },
  {
   "cell_type": "code",
   "execution_count": 6,
   "metadata": {},
   "outputs": [
    {
     "data": {
      "text/html": [
       "<div>\n",
       "<style scoped>\n",
       "    .dataframe tbody tr th:only-of-type {\n",
       "        vertical-align: middle;\n",
       "    }\n",
       "\n",
       "    .dataframe tbody tr th {\n",
       "        vertical-align: top;\n",
       "    }\n",
       "\n",
       "    .dataframe thead th {\n",
       "        text-align: right;\n",
       "    }\n",
       "</style>\n",
       "<table border=\"1\" class=\"dataframe\">\n",
       "  <thead>\n",
       "    <tr style=\"text-align: right;\">\n",
       "      <th></th>\n",
       "      <th>Date</th>\n",
       "      <th>Price</th>\n",
       "      <th>Change</th>\n",
       "      <th>Lag 2 Price</th>\n",
       "      <th>2 Day Change</th>\n",
       "      <th>2 Day Direction</th>\n",
       "    </tr>\n",
       "  </thead>\n",
       "  <tbody>\n",
       "    <tr>\n",
       "      <td>0</td>\n",
       "      <td>2000-01-03</td>\n",
       "      <td>24.36</td>\n",
       "      <td>NaN</td>\n",
       "      <td>27.98</td>\n",
       "      <td>0.148604</td>\n",
       "      <td>1</td>\n",
       "    </tr>\n",
       "    <tr>\n",
       "      <td>1</td>\n",
       "      <td>2000-01-04</td>\n",
       "      <td>24.94</td>\n",
       "      <td>0.023810</td>\n",
       "      <td>26.68</td>\n",
       "      <td>0.069767</td>\n",
       "      <td>1</td>\n",
       "    </tr>\n",
       "    <tr>\n",
       "      <td>2</td>\n",
       "      <td>2000-01-05</td>\n",
       "      <td>27.98</td>\n",
       "      <td>0.121893</td>\n",
       "      <td>25.14</td>\n",
       "      <td>-0.101501</td>\n",
       "      <td>-1</td>\n",
       "    </tr>\n",
       "    <tr>\n",
       "      <td>3</td>\n",
       "      <td>2000-01-06</td>\n",
       "      <td>26.68</td>\n",
       "      <td>-0.046462</td>\n",
       "      <td>21.89</td>\n",
       "      <td>-0.179535</td>\n",
       "      <td>-1</td>\n",
       "    </tr>\n",
       "    <tr>\n",
       "      <td>4</td>\n",
       "      <td>2000-01-07</td>\n",
       "      <td>25.14</td>\n",
       "      <td>-0.057721</td>\n",
       "      <td>21.98</td>\n",
       "      <td>-0.125696</td>\n",
       "      <td>-1</td>\n",
       "    </tr>\n",
       "    <tr>\n",
       "      <td>...</td>\n",
       "      <td>...</td>\n",
       "      <td>...</td>\n",
       "      <td>...</td>\n",
       "      <td>...</td>\n",
       "      <td>...</td>\n",
       "      <td>...</td>\n",
       "    </tr>\n",
       "    <tr>\n",
       "      <td>5005</td>\n",
       "      <td>2019-11-22</td>\n",
       "      <td>12.82</td>\n",
       "      <td>-0.039700</td>\n",
       "      <td>11.88</td>\n",
       "      <td>-0.073323</td>\n",
       "      <td>-1</td>\n",
       "    </tr>\n",
       "    <tr>\n",
       "      <td>5006</td>\n",
       "      <td>2019-11-25</td>\n",
       "      <td>12.51</td>\n",
       "      <td>-0.024181</td>\n",
       "      <td>11.55</td>\n",
       "      <td>-0.076739</td>\n",
       "      <td>-1</td>\n",
       "    </tr>\n",
       "    <tr>\n",
       "      <td>5007</td>\n",
       "      <td>2019-11-26</td>\n",
       "      <td>11.88</td>\n",
       "      <td>-0.050360</td>\n",
       "      <td>12.50</td>\n",
       "      <td>0.052189</td>\n",
       "      <td>1</td>\n",
       "    </tr>\n",
       "    <tr>\n",
       "      <td>5008</td>\n",
       "      <td>2019-11-27</td>\n",
       "      <td>11.55</td>\n",
       "      <td>-0.027778</td>\n",
       "      <td>NaN</td>\n",
       "      <td>NaN</td>\n",
       "      <td>0</td>\n",
       "    </tr>\n",
       "    <tr>\n",
       "      <td>5009</td>\n",
       "      <td>2019-11-29</td>\n",
       "      <td>12.50</td>\n",
       "      <td>0.082251</td>\n",
       "      <td>NaN</td>\n",
       "      <td>NaN</td>\n",
       "      <td>0</td>\n",
       "    </tr>\n",
       "  </tbody>\n",
       "</table>\n",
       "<p>5010 rows × 6 columns</p>\n",
       "</div>"
      ],
      "text/plain": [
       "           Date  Price    Change  Lag 2 Price  2 Day Change  2 Day Direction\n",
       "0    2000-01-03  24.36       NaN        27.98      0.148604                1\n",
       "1    2000-01-04  24.94  0.023810        26.68      0.069767                1\n",
       "2    2000-01-05  27.98  0.121893        25.14     -0.101501               -1\n",
       "3    2000-01-06  26.68 -0.046462        21.89     -0.179535               -1\n",
       "4    2000-01-07  25.14 -0.057721        21.98     -0.125696               -1\n",
       "...         ...    ...       ...          ...           ...              ...\n",
       "5005 2019-11-22  12.82 -0.039700        11.88     -0.073323               -1\n",
       "5006 2019-11-25  12.51 -0.024181        11.55     -0.076739               -1\n",
       "5007 2019-11-26  11.88 -0.050360        12.50      0.052189                1\n",
       "5008 2019-11-27  11.55 -0.027778          NaN           NaN                0\n",
       "5009 2019-11-29  12.50  0.082251          NaN           NaN                0\n",
       "\n",
       "[5010 rows x 6 columns]"
      ]
     },
     "execution_count": 6,
     "metadata": {},
     "output_type": "execute_result"
    }
   ],
   "source": [
    "data_VIX"
   ]
  },
  {
   "cell_type": "code",
   "execution_count": 8,
   "metadata": {
    "collapsed": true
   },
   "outputs": [],
   "source": [
    "data_VIX.to_csv('VIX_Proc.csv', index=False)"
   ]
  },
  {
   "cell_type": "code",
   "execution_count": null,
   "metadata": {
    "collapsed": true
   },
   "outputs": [],
   "source": []
  }
 ],
 "metadata": {
  "kernelspec": {
   "display_name": "Python 3",
   "language": "python",
   "name": "python3"
  },
  "language_info": {
   "codemirror_mode": {
    "name": "ipython",
    "version": 3
   },
   "file_extension": ".py",
   "mimetype": "text/x-python",
   "name": "python",
   "nbconvert_exporter": "python",
   "pygments_lexer": "ipython3",
   "version": "3.6.2"
  }
 },
 "nbformat": 4,
 "nbformat_minor": 2
}
