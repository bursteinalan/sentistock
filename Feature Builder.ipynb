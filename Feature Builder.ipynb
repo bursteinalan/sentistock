{
 "cells": [
  {
   "cell_type": "code",
   "execution_count": 1,
   "metadata": {},
   "outputs": [],
   "source": [
    "import pandas as pd\n",
    "from functools import reduce"
   ]
  },
  {
   "cell_type": "code",
   "execution_count": 2,
   "metadata": {},
   "outputs": [],
   "source": [
    "twitter_dir = 'data/bucket/twitter/'\n",
    "news_dir = 'data/bucket/news/'\n",
    "stock_dir = 'data/out/'\n",
    "output_dir = 'data/features/'"
   ]
  },
  {
   "cell_type": "code",
   "execution_count": 3,
   "metadata": {},
   "outputs": [],
   "source": [
    "influencers = ['BarackObama_sentiment','cnnbrk_sentiment', 'KimKardashian_sentiment', 'Trump_sentiment']\n",
    "sources = ['New York Times_sentiment', 'CNN_sentiment', 'Washington Post_sentiment', 'NYT_ALL_sentiment']\n",
    "indices = ['VIX_Predict', 'SPY_Predict']\n",
    "stocks = ['AAPL_Predict', 'GOOG_Predict','MSFT_Predict']"
   ]
  },
  {
   "cell_type": "code",
   "execution_count": 4,
   "metadata": {},
   "outputs": [],
   "source": [
    "twitter_important_columns = ['Date','sentiment_score','heuristic_score']\n",
    "news_important_columns = ['Date','sentiment_score','polar_score']\n",
    "stock_important_columns = ['Date','Change','Direction','Lag 1 Change', 'Lag 1 Direction','Lag 2 Change', 'Lag 2 Direction','Lag 2 Significant','Lag 5 Change', 'Lag 5 Direction']\n",
    "\n",
    "stock_simple_columns = ['Date','Change','Lag 2 Significant']"
   ]
  },
  {
   "cell_type": "code",
   "execution_count": 5,
   "metadata": {},
   "outputs": [],
   "source": [
    "first_date = pd.to_datetime('1/1/2015')\n",
    "last_date = pd.to_datetime('5/1/2019')"
   ]
  },
  {
   "cell_type": "code",
   "execution_count": 6,
   "metadata": {},
   "outputs": [],
   "source": [
    "dfs_twitter = []\n",
    "for influencer in influencers:\n",
    "    influencer_name = influencer.split('_')[0]\n",
    "    df = pd.read_csv(twitter_dir+influencer+'.csv', parse_dates=['Date'])\n",
    "    df = df[df['Date']<last_date]\n",
    "    df = df[df['Date']>first_date]\n",
    "    df = df[twitter_important_columns]\n",
    "    df = df.rename(columns={'sentiment_score':influencer_name+'_sentiment_score'})\n",
    "    df = df.rename(columns={'heuristic_score':influencer_name+'_heuristic_score'})\n",
    "    dfs_twitter.append(df)"
   ]
  },
  {
   "cell_type": "code",
   "execution_count": 7,
   "metadata": {},
   "outputs": [],
   "source": [
    "dfs_news = []\n",
    "for source in sources:\n",
    "    source_name = source.split('_')[0]\n",
    "    df = pd.read_csv(news_dir+source+'.csv', parse_dates=['Date'])\n",
    "    df = df[df['Date']<last_date]\n",
    "    df = df[df['Date']>first_date]\n",
    "    df = df.rename(columns={'sentiment_score':source_name+'_sentiment_score','polar_score':source_name+'_polar_score'})\n",
    "    dfs_news.append(df)"
   ]
  },
  {
   "cell_type": "code",
   "execution_count": 8,
   "metadata": {},
   "outputs": [],
   "source": [
    "dfs_index = []\n",
    "for index in indices:\n",
    "    df = pd.read_csv(stock_dir+index+'.csv', parse_dates=['Date'])\n",
    "    df['Date']= pd.to_datetime(df['Date'].dt.normalize())\n",
    "    df = df[df['Date']<last_date]\n",
    "    df = df[df['Date']>first_date]\n",
    "    df = df[stock_important_columns]\n",
    "    dfs_index.append(df)"
   ]
  },
  {
   "cell_type": "code",
   "execution_count": 9,
   "metadata": {},
   "outputs": [],
   "source": [
    "dfs_stock = []\n",
    "for stock in stocks:\n",
    "    stock_name = stock.split('_')[0]\n",
    "    df = pd.read_csv(stock_dir+stock+'.csv', parse_dates=['Date'])\n",
    "    df['Date']= pd.to_datetime(df['Date'].dt.normalize())\n",
    "    df = df[df['Date']<last_date]\n",
    "    df = df[df['Date']>first_date]\n",
    "    df = df[stock_simple_columns]\n",
    "    df = df.rename(columns={'Change':stock_name+'_Change','Lag 2 Significant':stock_name+'_Lag 2 Significant'})\n",
    "    df['stock'] = stock_name\n",
    "    dfs_stock.append(df)"
   ]
  },
  {
   "cell_type": "code",
   "execution_count": 10,
   "metadata": {},
   "outputs": [
    {
     "data": {
      "text/html": [
       "<div>\n",
       "<style scoped>\n",
       "    .dataframe tbody tr th:only-of-type {\n",
       "        vertical-align: middle;\n",
       "    }\n",
       "\n",
       "    .dataframe tbody tr th {\n",
       "        vertical-align: top;\n",
       "    }\n",
       "\n",
       "    .dataframe thead th {\n",
       "        text-align: right;\n",
       "    }\n",
       "</style>\n",
       "<table border=\"1\" class=\"dataframe\">\n",
       "  <thead>\n",
       "    <tr style=\"text-align: right;\">\n",
       "      <th></th>\n",
       "      <th>Date</th>\n",
       "      <th>KimKardashian_sentiment_score</th>\n",
       "      <th>KimKardashian_heuristic_score</th>\n",
       "    </tr>\n",
       "  </thead>\n",
       "  <tbody>\n",
       "    <tr>\n",
       "      <th>0</th>\n",
       "      <td>2015-01-06</td>\n",
       "      <td>0.193586</td>\n",
       "      <td>0.403680</td>\n",
       "    </tr>\n",
       "    <tr>\n",
       "      <th>1</th>\n",
       "      <td>2015-01-07</td>\n",
       "      <td>0.183080</td>\n",
       "      <td>0.247557</td>\n",
       "    </tr>\n",
       "    <tr>\n",
       "      <th>2</th>\n",
       "      <td>2015-01-08</td>\n",
       "      <td>0.571667</td>\n",
       "      <td>0.673277</td>\n",
       "    </tr>\n",
       "    <tr>\n",
       "      <th>3</th>\n",
       "      <td>2015-01-09</td>\n",
       "      <td>0.230520</td>\n",
       "      <td>0.156980</td>\n",
       "    </tr>\n",
       "    <tr>\n",
       "      <th>4</th>\n",
       "      <td>2015-01-12</td>\n",
       "      <td>0.099514</td>\n",
       "      <td>-0.022715</td>\n",
       "    </tr>\n",
       "    <tr>\n",
       "      <th>...</th>\n",
       "      <td>...</td>\n",
       "      <td>...</td>\n",
       "      <td>...</td>\n",
       "    </tr>\n",
       "    <tr>\n",
       "      <th>362</th>\n",
       "      <td>2017-06-01</td>\n",
       "      <td>0.125355</td>\n",
       "      <td>0.007766</td>\n",
       "    </tr>\n",
       "    <tr>\n",
       "      <th>363</th>\n",
       "      <td>2017-08-01</td>\n",
       "      <td>0.721500</td>\n",
       "      <td>0.721500</td>\n",
       "    </tr>\n",
       "    <tr>\n",
       "      <th>364</th>\n",
       "      <td>2017-09-29</td>\n",
       "      <td>0.000000</td>\n",
       "      <td>0.000000</td>\n",
       "    </tr>\n",
       "    <tr>\n",
       "      <th>365</th>\n",
       "      <td>2017-11-01</td>\n",
       "      <td>0.072240</td>\n",
       "      <td>0.080543</td>\n",
       "    </tr>\n",
       "    <tr>\n",
       "      <th>366</th>\n",
       "      <td>2017-12-01</td>\n",
       "      <td>0.489800</td>\n",
       "      <td>0.489800</td>\n",
       "    </tr>\n",
       "  </tbody>\n",
       "</table>\n",
       "<p>367 rows × 3 columns</p>\n",
       "</div>"
      ],
      "text/plain": [
       "          Date  KimKardashian_sentiment_score  KimKardashian_heuristic_score\n",
       "0   2015-01-06                       0.193586                       0.403680\n",
       "1   2015-01-07                       0.183080                       0.247557\n",
       "2   2015-01-08                       0.571667                       0.673277\n",
       "3   2015-01-09                       0.230520                       0.156980\n",
       "4   2015-01-12                       0.099514                      -0.022715\n",
       "..         ...                            ...                            ...\n",
       "362 2017-06-01                       0.125355                       0.007766\n",
       "363 2017-08-01                       0.721500                       0.721500\n",
       "364 2017-09-29                       0.000000                       0.000000\n",
       "365 2017-11-01                       0.072240                       0.080543\n",
       "366 2017-12-01                       0.489800                       0.489800\n",
       "\n",
       "[367 rows x 3 columns]"
      ]
     },
     "execution_count": 10,
     "metadata": {},
     "output_type": "execute_result"
    }
   ],
   "source": [
    "dfs_twitter[2]"
   ]
  },
  {
   "cell_type": "code",
   "execution_count": 11,
   "metadata": {},
   "outputs": [],
   "source": [
    "df_twitter = reduce(lambda  left,right: pd.merge(left,right,on=['Date'],\n",
    "                                            how='outer'), dfs_twitter)"
   ]
  },
  {
   "cell_type": "code",
   "execution_count": 12,
   "metadata": {},
   "outputs": [],
   "source": [
    "df_news = reduce(lambda  left,right: pd.merge(left,right,on=['Date'],\n",
    "                                            how='outer'), dfs_news)"
   ]
  },
  {
   "cell_type": "code",
   "execution_count": 13,
   "metadata": {},
   "outputs": [],
   "source": [
    "df_stock = reduce(lambda  left,right: pd.merge(left,right,on=['Date'],\n",
    "                                            how='outer'), dfs_stock)"
   ]
  },
  {
   "cell_type": "code",
   "execution_count": 14,
   "metadata": {
    "scrolled": true
   },
   "outputs": [
    {
     "data": {
      "text/plain": [
       "2016-09-08    1\n",
       "2016-08-01    1\n",
       "2018-03-15    1\n",
       "2017-03-15    1\n",
       "2018-02-12    1\n",
       "             ..\n",
       "2018-08-08    1\n",
       "2016-01-08    1\n",
       "2018-08-29    1\n",
       "2016-08-05    1\n",
       "2018-12-21    1\n",
       "Name: Date, Length: 1088, dtype: int64"
      ]
     },
     "execution_count": 14,
     "metadata": {},
     "output_type": "execute_result"
    }
   ],
   "source": [
    "df_stock['Date'].value_counts()"
   ]
  },
  {
   "cell_type": "code",
   "execution_count": 15,
   "metadata": {},
   "outputs": [
    {
     "data": {
      "text/html": [
       "<div>\n",
       "<style scoped>\n",
       "    .dataframe tbody tr th:only-of-type {\n",
       "        vertical-align: middle;\n",
       "    }\n",
       "\n",
       "    .dataframe tbody tr th {\n",
       "        vertical-align: top;\n",
       "    }\n",
       "\n",
       "    .dataframe thead th {\n",
       "        text-align: right;\n",
       "    }\n",
       "</style>\n",
       "<table border=\"1\" class=\"dataframe\">\n",
       "  <thead>\n",
       "    <tr style=\"text-align: right;\">\n",
       "      <th></th>\n",
       "      <th>Date</th>\n",
       "      <th>BarackObama_sentiment_score</th>\n",
       "      <th>BarackObama_heuristic_score</th>\n",
       "      <th>cnnbrk_sentiment_score</th>\n",
       "      <th>cnnbrk_heuristic_score</th>\n",
       "      <th>KimKardashian_sentiment_score</th>\n",
       "      <th>KimKardashian_heuristic_score</th>\n",
       "      <th>Trump_sentiment_score</th>\n",
       "      <th>Trump_heuristic_score</th>\n",
       "    </tr>\n",
       "  </thead>\n",
       "  <tbody>\n",
       "    <tr>\n",
       "      <th>363</th>\n",
       "      <td>2016-07-08</td>\n",
       "      <td>0.330155</td>\n",
       "      <td>0.364965</td>\n",
       "      <td>-0.300853</td>\n",
       "      <td>-0.274419</td>\n",
       "      <td>0.132013</td>\n",
       "      <td>0.017296</td>\n",
       "      <td>-0.223792</td>\n",
       "      <td>-0.31557</td>\n",
       "    </tr>\n",
       "  </tbody>\n",
       "</table>\n",
       "</div>"
      ],
      "text/plain": [
       "          Date  BarackObama_sentiment_score  BarackObama_heuristic_score  \\\n",
       "363 2016-07-08                     0.330155                     0.364965   \n",
       "\n",
       "     cnnbrk_sentiment_score  cnnbrk_heuristic_score  \\\n",
       "363               -0.300853               -0.274419   \n",
       "\n",
       "     KimKardashian_sentiment_score  KimKardashian_heuristic_score  \\\n",
       "363                       0.132013                       0.017296   \n",
       "\n",
       "     Trump_sentiment_score  Trump_heuristic_score  \n",
       "363              -0.223792               -0.31557  "
      ]
     },
     "execution_count": 15,
     "metadata": {},
     "output_type": "execute_result"
    }
   ],
   "source": [
    "df_twitter[df_twitter['Date']=='2016-07-08']"
   ]
  },
  {
   "cell_type": "code",
   "execution_count": 16,
   "metadata": {},
   "outputs": [],
   "source": [
    "index_name = [' '+index.split('_')[0] for index in indices]"
   ]
  },
  {
   "cell_type": "code",
   "execution_count": 17,
   "metadata": {},
   "outputs": [],
   "source": [
    "df_index = reduce(lambda  left,right: pd.merge(left,right,on=['Date'],\n",
    "                                            how='outer', suffixes=index_name), dfs_index)"
   ]
  },
  {
   "cell_type": "code",
   "execution_count": 18,
   "metadata": {},
   "outputs": [],
   "source": [
    "# Handle Weekends"
   ]
  },
  {
   "cell_type": "code",
   "execution_count": 19,
   "metadata": {},
   "outputs": [],
   "source": [
    "predict_dates = df_stock['Date']"
   ]
  },
  {
   "cell_type": "code",
   "execution_count": 20,
   "metadata": {},
   "outputs": [
    {
     "data": {
      "text/plain": [
       "(1088,)"
      ]
     },
     "execution_count": 20,
     "metadata": {},
     "output_type": "execute_result"
    }
   ],
   "source": [
    "predict_dates.shape"
   ]
  },
  {
   "cell_type": "code",
   "execution_count": 21,
   "metadata": {},
   "outputs": [],
   "source": [
    "#FOR NOW ONLY DELETE THE WEEKENDS\n",
    "df_twitter = pd.merge(predict_dates, df_twitter, on=[\"Date\"], how='left')\n",
    "df_news = pd.merge(predict_dates, df_news, on=[\"Date\"], how='left')"
   ]
  },
  {
   "cell_type": "code",
   "execution_count": 22,
   "metadata": {},
   "outputs": [
    {
     "data": {
      "text/plain": [
       "(1088, 9)"
      ]
     },
     "execution_count": 22,
     "metadata": {},
     "output_type": "execute_result"
    }
   ],
   "source": [
    "df_twitter.shape"
   ]
  },
  {
   "cell_type": "code",
   "execution_count": 23,
   "metadata": {},
   "outputs": [
    {
     "data": {
      "text/plain": [
       "(1088, 9)"
      ]
     },
     "execution_count": 23,
     "metadata": {},
     "output_type": "execute_result"
    }
   ],
   "source": [
    "df_news.shape"
   ]
  },
  {
   "cell_type": "code",
   "execution_count": 24,
   "metadata": {},
   "outputs": [
    {
     "data": {
      "text/plain": [
       "(1088, 19)"
      ]
     },
     "execution_count": 24,
     "metadata": {},
     "output_type": "execute_result"
    }
   ],
   "source": [
    "df_index.shape"
   ]
  },
  {
   "cell_type": "code",
   "execution_count": 25,
   "metadata": {},
   "outputs": [
    {
     "data": {
      "text/plain": [
       "(1088, 10)"
      ]
     },
     "execution_count": 25,
     "metadata": {},
     "output_type": "execute_result"
    }
   ],
   "source": [
    "df_stock.shape"
   ]
  },
  {
   "cell_type": "code",
   "execution_count": 26,
   "metadata": {},
   "outputs": [],
   "source": [
    "df_twitter.to_csv(output_dir+'twitter_features.csv', index=False)\n",
    "df_news.to_csv(output_dir+'news_features.csv', index=False)\n",
    "df_index.to_csv(output_dir+'index_features.csv', index=False)\n",
    "df_stock.to_csv(output_dir+'stock_features.csv', index=False)"
   ]
  },
  {
   "cell_type": "code",
   "execution_count": null,
   "metadata": {},
   "outputs": [],
   "source": []
  }
 ],
 "metadata": {
  "kernelspec": {
   "display_name": "Python 3",
   "language": "python",
   "name": "python3"
  },
  "language_info": {
   "codemirror_mode": {
    "name": "ipython",
    "version": 3
   },
   "file_extension": ".py",
   "mimetype": "text/x-python",
   "name": "python",
   "nbconvert_exporter": "python",
   "pygments_lexer": "ipython3",
   "version": "3.7.4"
  }
 },
 "nbformat": 4,
 "nbformat_minor": 2
}
