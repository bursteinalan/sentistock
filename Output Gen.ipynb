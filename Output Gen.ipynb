{
 "cells": [
  {
   "cell_type": "code",
   "execution_count": 1,
   "metadata": {},
   "outputs": [],
   "source": [
    "import pandas as pd"
   ]
  },
  {
   "cell_type": "code",
   "execution_count": 2,
   "metadata": {},
   "outputs": [],
   "source": [
    "stock_dir = 'data/out/'"
   ]
  },
  {
   "cell_type": "code",
   "execution_count": 3,
   "metadata": {},
   "outputs": [],
   "source": [
    "stocks = ['VIX','SPY', 'AAPL', 'GOOG', 'MSFT']"
   ]
  },
  {
   "cell_type": "code",
   "execution_count": 4,
   "metadata": {},
   "outputs": [],
   "source": [
    "def posOrNeg(val):\n",
    "    if val>0:\n",
    "        return 1\n",
    "    elif val<0:\n",
    "        return -1\n",
    "    else:\n",
    "        return 0"
   ]
  },
  {
   "cell_type": "code",
   "execution_count": 5,
   "metadata": {},
   "outputs": [],
   "source": [
    "def bigPosOrNeg(val):\n",
    "    if val>0.01:\n",
    "        return 1\n",
    "    elif val<-0.01:\n",
    "        return -1\n",
    "    else:\n",
    "        return 0"
   ]
  },
  {
   "cell_type": "code",
   "execution_count": 6,
   "metadata": {},
   "outputs": [],
   "source": [
    "for stock in stocks:\n",
    "    df = pd.read_csv(stock_dir+stock+'.csv', parse_dates=['Date'])\n",
    "    df['Direction'] = df['Change'].apply(posOrNeg)\n",
    "    df['Lag 1 Price'] = df['Price'].shift(-1)\n",
    "    df['Lag 2 Price'] = df['Price'].shift(-2)\n",
    "    df['Lag 5 Price'] = df['Price'].shift(-2)\n",
    "    df['Lag 1 Change'] = (df['Lag 1 Price'] - df['Price'])/df['Price']\n",
    "    df['Lag 1 Direction'] = df['Lag 1 Change'].apply(posOrNeg)\n",
    "    df['Lag 1 Significant'] = df['Lag 1 Change'].apply(bigPosOrNeg)\n",
    "    df['Lag 2 Change'] = (df['Lag 2 Price'] - df['Price'])/df['Price']\n",
    "    df['Lag 2 Direction'] = df['Lag 2 Change'].apply(posOrNeg)\n",
    "    df['Lag 2 Significant'] = df['Lag 2 Change'].apply(bigPosOrNeg)\n",
    "    df['Lag 5 Change'] = (df['Lag 5 Price'] - df['Price'])/df['Price']\n",
    "    df['Lag 5 Direction'] = df['Lag 5 Change'].apply(posOrNeg)\n",
    "    df['Lag 5 Significant'] = df['Lag 5 Change'].apply(bigPosOrNeg)\n",
    "    df.to_csv(stock_dir+stock+'_Predict.csv', index=False)"
   ]
  },
  {
   "cell_type": "code",
   "execution_count": 7,
   "metadata": {},
   "outputs": [],
   "source": [
    "#OLD"
   ]
  },
  {
   "cell_type": "code",
   "execution_count": 8,
   "metadata": {},
   "outputs": [
    {
     "ename": "NameError",
     "evalue": "name 'data_VIX' is not defined",
     "output_type": "error",
     "traceback": [
      "\u001b[1;31m---------------------------------------------------------------------------\u001b[0m",
      "\u001b[1;31mNameError\u001b[0m                                 Traceback (most recent call last)",
      "\u001b[1;32m<ipython-input-8-53849d406ffb>\u001b[0m in \u001b[0;36m<module>\u001b[1;34m\u001b[0m\n\u001b[1;32m----> 1\u001b[1;33m \u001b[0mdata_VIX\u001b[0m\u001b[1;33m[\u001b[0m\u001b[1;34m'Lag 2 Price'\u001b[0m\u001b[1;33m]\u001b[0m \u001b[1;33m=\u001b[0m \u001b[0mdata_VIX\u001b[0m\u001b[1;33m[\u001b[0m\u001b[1;34m'Price'\u001b[0m\u001b[1;33m]\u001b[0m\u001b[1;33m.\u001b[0m\u001b[0mshift\u001b[0m\u001b[1;33m(\u001b[0m\u001b[1;33m-\u001b[0m\u001b[1;36m2\u001b[0m\u001b[1;33m)\u001b[0m\u001b[1;33m\u001b[0m\u001b[1;33m\u001b[0m\u001b[0m\n\u001b[0m\u001b[0;32m      2\u001b[0m \u001b[0mdata_VIX\u001b[0m\u001b[1;33m[\u001b[0m\u001b[1;34m'2 Day Change'\u001b[0m\u001b[1;33m]\u001b[0m \u001b[1;33m=\u001b[0m \u001b[1;33m(\u001b[0m\u001b[0mdata_VIX\u001b[0m\u001b[1;33m[\u001b[0m\u001b[1;34m'Lag 2 Price'\u001b[0m\u001b[1;33m]\u001b[0m \u001b[1;33m-\u001b[0m \u001b[0mdata_VIX\u001b[0m\u001b[1;33m[\u001b[0m\u001b[1;34m'Price'\u001b[0m\u001b[1;33m]\u001b[0m\u001b[1;33m)\u001b[0m\u001b[1;33m/\u001b[0m\u001b[0mdata_VIX\u001b[0m\u001b[1;33m[\u001b[0m\u001b[1;34m'Price'\u001b[0m\u001b[1;33m]\u001b[0m\u001b[1;33m\u001b[0m\u001b[1;33m\u001b[0m\u001b[0m\n\u001b[0;32m      3\u001b[0m \u001b[0mdata_VIX\u001b[0m\u001b[1;33m[\u001b[0m\u001b[1;34m'2 Day Direction'\u001b[0m\u001b[1;33m]\u001b[0m \u001b[1;33m=\u001b[0m \u001b[0mdata_VIX\u001b[0m\u001b[1;33m[\u001b[0m\u001b[1;34m'2 Day Change'\u001b[0m\u001b[1;33m]\u001b[0m\u001b[1;33m.\u001b[0m\u001b[0mapply\u001b[0m\u001b[1;33m(\u001b[0m\u001b[0mposOrNeg\u001b[0m\u001b[1;33m)\u001b[0m\u001b[1;33m\u001b[0m\u001b[1;33m\u001b[0m\u001b[0m\n\u001b[0;32m      4\u001b[0m \u001b[0mdata_VIX\u001b[0m\u001b[1;33m[\u001b[0m\u001b[1;34m'2 Day Significant'\u001b[0m\u001b[1;33m]\u001b[0m \u001b[1;33m=\u001b[0m \u001b[0mdata_VIX\u001b[0m\u001b[1;33m[\u001b[0m\u001b[1;34m'2 Day Change'\u001b[0m\u001b[1;33m]\u001b[0m\u001b[1;33m.\u001b[0m\u001b[0mapply\u001b[0m\u001b[1;33m(\u001b[0m\u001b[0mbigPosOrNeg\u001b[0m\u001b[1;33m)\u001b[0m\u001b[1;33m\u001b[0m\u001b[1;33m\u001b[0m\u001b[0m\n",
      "\u001b[1;31mNameError\u001b[0m: name 'data_VIX' is not defined"
     ]
    }
   ],
   "source": [
    "data_VIX['Lag 2 Price'] = data_VIX['Price'].shift(-2)\n",
    "data_VIX['2 Day Change'] = (data_VIX['Lag 2 Price'] - data_VIX['Price'])/data_VIX['Price']\n",
    "data_VIX['2 Day Direction'] = data_VIX['2 Day Change'].apply(posOrNeg)\n",
    "data_VIX['2 Day Significant'] = data_VIX['2 Day Change'].apply(bigPosOrNeg)"
   ]
  },
  {
   "cell_type": "code",
   "execution_count": null,
   "metadata": {},
   "outputs": [],
   "source": [
    "data_VIX['2 Day Significant'].value_counts()"
   ]
  },
  {
   "cell_type": "code",
   "execution_count": null,
   "metadata": {},
   "outputs": [],
   "source": [
    "data_VIX"
   ]
  },
  {
   "cell_type": "code",
   "execution_count": null,
   "metadata": {},
   "outputs": [],
   "source": [
    "data_VIX.to_csv(stock_dir+'VIX_Future.csv', index=False)"
   ]
  },
  {
   "cell_type": "code",
   "execution_count": null,
   "metadata": {},
   "outputs": [],
   "source": []
  }
 ],
 "metadata": {
  "kernelspec": {
   "display_name": "Python 3",
   "language": "python",
   "name": "python3"
  },
  "language_info": {
   "codemirror_mode": {
    "name": "ipython",
    "version": 3
   },
   "file_extension": ".py",
   "mimetype": "text/x-python",
   "name": "python",
   "nbconvert_exporter": "python",
   "pygments_lexer": "ipython3",
   "version": "3.7.4"
  }
 },
 "nbformat": 4,
 "nbformat_minor": 2
}
