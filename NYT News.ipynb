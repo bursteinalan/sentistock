{
 "cells": [
  {
   "cell_type": "code",
   "execution_count": 106,
   "metadata": {
    "collapsed": true
   },
   "outputs": [],
   "source": [
    "import requests\n",
    "import json\n",
    "import pandas as pd\n",
    "import os.path\n"
   ]
  },
  {
   "cell_type": "code",
   "execution_count": 96,
   "metadata": {
    "collapsed": true
   },
   "outputs": [],
   "source": [
    "save_loc = 'data/nyt/'"
   ]
  },
  {
   "cell_type": "code",
   "execution_count": 78,
   "metadata": {
    "collapsed": true
   },
   "outputs": [],
   "source": [
    "secret = 'fj7cxOf9U7ok1Oui9i4lou2rmUWfGw4r'"
   ]
  },
  {
   "cell_type": "code",
   "execution_count": 79,
   "metadata": {
    "collapsed": true
   },
   "outputs": [],
   "source": [
    "base_url = 'https://api.nytimes.com/svc/archive/v1/'\n",
    "\n",
    "url = 'https://api.nytimes.com/svc/archive/v1/2019/1.json?api-key='+secret"
   ]
  },
  {
   "cell_type": "code",
   "execution_count": 90,
   "metadata": {
    "collapsed": true
   },
   "outputs": [],
   "source": [
    "years = [2015,2016,2017,2018,2019]"
   ]
  },
  {
   "cell_type": "code",
   "execution_count": 91,
   "metadata": {
    "collapsed": true
   },
   "outputs": [],
   "source": [
    "last_month_of_2019 = 9"
   ]
  },
  {
   "cell_type": "code",
   "execution_count": 101,
   "metadata": {
    "collapsed": true
   },
   "outputs": [],
   "source": [
    "def process(month, year):\n",
    "    url = base_url + str(year)+'/'+str(month)+'.json?api-key='+secret\n",
    "    response = requests.get(url)\n",
    "    jsonResponse = json.loads(response.content.decode('utf-8'))\n",
    "    df = pd.DataFrame(jsonResponse['response']['docs']) \n",
    "    df['headline'] = df['headline'].apply(lambda x: x['main'])\n",
    "    df = df[['pub_date','headline']]\n",
    "    df.to_csv(save_loc+'nyt_'+str(month)+'_'+str(year)+'.csv')\n",
    "    print('Saved: '+str(month)+'/'+str(year))"
   ]
  },
  {
   "cell_type": "code",
   "execution_count": 113,
   "metadata": {},
   "outputs": [
    {
     "name": "stdout",
     "output_type": "stream",
     "text": [
      "File already written\n",
      "File already written\n",
      "File already written\n",
      "File already written\n",
      "File already written\n",
      "File already written\n",
      "File already written\n",
      "File already written\n",
      "File already written\n",
      "File already written\n",
      "File already written\n",
      "File already written\n",
      "File already written\n",
      "File already written\n",
      "File already written\n",
      "File already written\n",
      "File already written\n",
      "File already written\n",
      "File already written\n",
      "File already written\n",
      "File already written\n",
      "File already written\n",
      "File already written\n",
      "File already written\n",
      "File already written\n",
      "File already written\n",
      "File already written\n",
      "File already written\n",
      "File already written\n",
      "File already written\n",
      "File already written\n",
      "File already written\n",
      "File already written\n",
      "File already written\n",
      "File already written\n",
      "File already written\n",
      "File already written\n",
      "File already written\n",
      "File already written\n",
      "File already written\n",
      "File already written\n",
      "Saved: 6/2018\n",
      "Saved: 7/2018\n",
      "File already written\n",
      "File already written\n",
      "File already written\n",
      "File already written\n",
      "File already written\n",
      "File already written\n",
      "File already written\n",
      "File already written\n",
      "File already written\n",
      "File already written\n",
      "Saved: 6/2019\n",
      "Saved: 7/2019\n",
      "Saved: 8/2019\n"
     ]
    }
   ],
   "source": [
    "for year in years:\n",
    "    if year==2019:\n",
    "        for month in range(1,last_month_of_2019):\n",
    "            try:\n",
    "                file = save_loc+'nyt_'+str(month)+'_'+str(year)+'.csv'\n",
    "                if os.path.isfile(file):\n",
    "                    print('File already written')\n",
    "                else:\n",
    "                    process(month, year)\n",
    "            except:\n",
    "                print('Failed on',month,year)\n",
    "    else:\n",
    "        for month in range(1,13):\n",
    "            try:\n",
    "                file = save_loc+'nyt_'+str(month)+'_'+str(year)+'.csv'\n",
    "                if os.path.isfile(file):\n",
    "                    print('File already written')\n",
    "                else:\n",
    "                    process(month, year)\n",
    "            except:\n",
    "                print('Failed on',month,year)\n",
    "            "
   ]
  },
  {
   "cell_type": "code",
   "execution_count": 51,
   "metadata": {
    "collapsed": true
   },
   "outputs": [],
   "source": [
    "response = requests.get(url)"
   ]
  },
  {
   "cell_type": "code",
   "execution_count": 61,
   "metadata": {},
   "outputs": [],
   "source": [
    "jsonResponse = json.loads(response.content.decode('utf-8'))\n"
   ]
  },
  {
   "cell_type": "code",
   "execution_count": 64,
   "metadata": {},
   "outputs": [
    {
     "data": {
      "text/plain": [
       "dict_keys(['copyright', 'response'])"
      ]
     },
     "execution_count": 64,
     "metadata": {},
     "output_type": "execute_result"
    }
   ],
   "source": [
    "jsonResponse.keys()"
   ]
  },
  {
   "cell_type": "code",
   "execution_count": 65,
   "metadata": {},
   "outputs": [],
   "source": [
    "df = pd.DataFrame(jsonResponse['response']['docs']) "
   ]
  },
  {
   "cell_type": "code",
   "execution_count": 67,
   "metadata": {},
   "outputs": [],
   "source": [
    "df['headline'] = df['headline'].apply(lambda x: x['main'])\n",
    "df = df[['pub_date','headline']]"
   ]
  },
  {
   "cell_type": "code",
   "execution_count": null,
   "metadata": {
    "collapsed": true
   },
   "outputs": [],
   "source": []
  },
  {
   "cell_type": "code",
   "execution_count": 59,
   "metadata": {},
   "outputs": [
    {
     "ename": "AttributeError",
     "evalue": "'bytes' object has no attribute 'read'",
     "output_type": "error",
     "traceback": [
      "\u001b[0;31m---------------------------------------------------------------------------\u001b[0m",
      "\u001b[0;31mAttributeError\u001b[0m                            Traceback (most recent call last)",
      "\u001b[0;32m<ipython-input-59-1dcfe07f7fca>\u001b[0m in \u001b[0;36m<module>\u001b[0;34m()\u001b[0m\n\u001b[0;32m----> 1\u001b[0;31m \u001b[0mdata\u001b[0m \u001b[0;34m=\u001b[0m \u001b[0mjson\u001b[0m\u001b[0;34m.\u001b[0m\u001b[0mload\u001b[0m\u001b[0;34m(\u001b[0m\u001b[0mresponse\u001b[0m\u001b[0;34m.\u001b[0m\u001b[0mcontent\u001b[0m\u001b[0;34m)\u001b[0m\u001b[0;34m\u001b[0m\u001b[0m\n\u001b[0m",
      "\u001b[0;32m~/anaconda3/lib/python3.6/json/__init__.py\u001b[0m in \u001b[0;36mload\u001b[0;34m(fp, cls, object_hook, parse_float, parse_int, parse_constant, object_pairs_hook, **kw)\u001b[0m\n\u001b[1;32m    294\u001b[0m \u001b[0;34m\u001b[0m\u001b[0m\n\u001b[1;32m    295\u001b[0m     \"\"\"\n\u001b[0;32m--> 296\u001b[0;31m     return loads(fp.read(),\n\u001b[0m\u001b[1;32m    297\u001b[0m         \u001b[0mcls\u001b[0m\u001b[0;34m=\u001b[0m\u001b[0mcls\u001b[0m\u001b[0;34m,\u001b[0m \u001b[0mobject_hook\u001b[0m\u001b[0;34m=\u001b[0m\u001b[0mobject_hook\u001b[0m\u001b[0;34m,\u001b[0m\u001b[0;34m\u001b[0m\u001b[0m\n\u001b[1;32m    298\u001b[0m         \u001b[0mparse_float\u001b[0m\u001b[0;34m=\u001b[0m\u001b[0mparse_float\u001b[0m\u001b[0;34m,\u001b[0m \u001b[0mparse_int\u001b[0m\u001b[0;34m=\u001b[0m\u001b[0mparse_int\u001b[0m\u001b[0;34m,\u001b[0m\u001b[0;34m\u001b[0m\u001b[0m\n",
      "\u001b[0;31mAttributeError\u001b[0m: 'bytes' object has no attribute 'read'"
     ]
    }
   ],
   "source": [
    "data = json.load(response.content)"
   ]
  },
  {
   "cell_type": "code",
   "execution_count": 55,
   "metadata": {},
   "outputs": [
    {
     "ename": "AttributeError",
     "evalue": "'Response' object has no attribute 'read'",
     "output_type": "error",
     "traceback": [
      "\u001b[0;31m---------------------------------------------------------------------------\u001b[0m",
      "\u001b[0;31mAttributeError\u001b[0m                            Traceback (most recent call last)",
      "\u001b[0;32m<ipython-input-55-78e085ce0cc3>\u001b[0m in \u001b[0;36m<module>\u001b[0;34m()\u001b[0m\n\u001b[0;32m----> 1\u001b[0;31m \u001b[0mdata\u001b[0m \u001b[0;34m=\u001b[0m \u001b[0mjson\u001b[0m\u001b[0;34m.\u001b[0m\u001b[0mload\u001b[0m\u001b[0;34m(\u001b[0m\u001b[0mresponse\u001b[0m\u001b[0;34m)\u001b[0m\u001b[0;34m\u001b[0m\u001b[0m\n\u001b[0m",
      "\u001b[0;32m~/anaconda3/lib/python3.6/json/__init__.py\u001b[0m in \u001b[0;36mload\u001b[0;34m(fp, cls, object_hook, parse_float, parse_int, parse_constant, object_pairs_hook, **kw)\u001b[0m\n\u001b[1;32m    294\u001b[0m \u001b[0;34m\u001b[0m\u001b[0m\n\u001b[1;32m    295\u001b[0m     \"\"\"\n\u001b[0;32m--> 296\u001b[0;31m     return loads(fp.read(),\n\u001b[0m\u001b[1;32m    297\u001b[0m         \u001b[0mcls\u001b[0m\u001b[0;34m=\u001b[0m\u001b[0mcls\u001b[0m\u001b[0;34m,\u001b[0m \u001b[0mobject_hook\u001b[0m\u001b[0;34m=\u001b[0m\u001b[0mobject_hook\u001b[0m\u001b[0;34m,\u001b[0m\u001b[0;34m\u001b[0m\u001b[0m\n\u001b[1;32m    298\u001b[0m         \u001b[0mparse_float\u001b[0m\u001b[0;34m=\u001b[0m\u001b[0mparse_float\u001b[0m\u001b[0;34m,\u001b[0m \u001b[0mparse_int\u001b[0m\u001b[0;34m=\u001b[0m\u001b[0mparse_int\u001b[0m\u001b[0;34m,\u001b[0m\u001b[0;34m\u001b[0m\u001b[0m\n",
      "\u001b[0;31mAttributeError\u001b[0m: 'Response' object has no attribute 'read'"
     ]
    }
   ],
   "source": [
    "data = json.load(response)"
   ]
  },
  {
   "cell_type": "code",
   "execution_count": 24,
   "metadata": {},
   "outputs": [
    {
     "data": {
      "text/html": [
       "<div>\n",
       "<style scoped>\n",
       "    .dataframe tbody tr th:only-of-type {\n",
       "        vertical-align: middle;\n",
       "    }\n",
       "\n",
       "    .dataframe tbody tr th {\n",
       "        vertical-align: top;\n",
       "    }\n",
       "\n",
       "    .dataframe thead th {\n",
       "        text-align: right;\n",
       "    }\n",
       "</style>\n",
       "<table border=\"1\" class=\"dataframe\">\n",
       "  <thead>\n",
       "    <tr style=\"text-align: right;\">\n",
       "      <th></th>\n",
       "      <th>copyright</th>\n",
       "      <th>response</th>\n",
       "    </tr>\n",
       "  </thead>\n",
       "  <tbody>\n",
       "    <tr>\n",
       "      <td>docs</td>\n",
       "      <td>Copyright (c) 2019 The New York Times Company....</td>\n",
       "      <td>[{'web_url': 'https://www.nytimes.com/2019/01/...</td>\n",
       "    </tr>\n",
       "    <tr>\n",
       "      <td>meta</td>\n",
       "      <td>Copyright (c) 2019 The New York Times Company....</td>\n",
       "      <td>{'hits': 6977}</td>\n",
       "    </tr>\n",
       "  </tbody>\n",
       "</table>\n",
       "</div>"
      ],
      "text/plain": [
       "                                              copyright  \\\n",
       "docs  Copyright (c) 2019 The New York Times Company....   \n",
       "meta  Copyright (c) 2019 The New York Times Company....   \n",
       "\n",
       "                                               response  \n",
       "docs  [{'web_url': 'https://www.nytimes.com/2019/01/...  \n",
       "meta                                     {'hits': 6977}  "
      ]
     },
     "execution_count": 24,
     "metadata": {},
     "output_type": "execute_result"
    }
   ],
   "source": [
    "response = pd.read_json('nytdata.json')"
   ]
  },
  {
   "cell_type": "code",
   "execution_count": 33,
   "metadata": {
    "collapsed": true
   },
   "outputs": [],
   "source": [
    "with open('nytdata.json', 'r') as f:\n",
    "    data = json.load(f)"
   ]
  },
  {
   "cell_type": "code",
   "execution_count": 34,
   "metadata": {
    "collapsed": true
   },
   "outputs": [],
   "source": [
    "data = data['response']"
   ]
  },
  {
   "cell_type": "code",
   "execution_count": 41,
   "metadata": {
    "collapsed": true
   },
   "outputs": [],
   "source": [
    "df = pd.DataFrame(data['docs']) "
   ]
  },
  {
   "cell_type": "code",
   "execution_count": 43,
   "metadata": {
    "collapsed": true
   },
   "outputs": [],
   "source": [
    "df['headline'] = df['headline'].apply(lambda x: x['main'])"
   ]
  },
  {
   "cell_type": "code",
   "execution_count": 46,
   "metadata": {
    "collapsed": true
   },
   "outputs": [],
   "source": [
    "df = df[['pub_date','headline']]"
   ]
  },
  {
   "cell_type": "code",
   "execution_count": 47,
   "metadata": {},
   "outputs": [
    {
     "data": {
      "text/html": [
       "<div>\n",
       "<style scoped>\n",
       "    .dataframe tbody tr th:only-of-type {\n",
       "        vertical-align: middle;\n",
       "    }\n",
       "\n",
       "    .dataframe tbody tr th {\n",
       "        vertical-align: top;\n",
       "    }\n",
       "\n",
       "    .dataframe thead th {\n",
       "        text-align: right;\n",
       "    }\n",
       "</style>\n",
       "<table border=\"1\" class=\"dataframe\">\n",
       "  <thead>\n",
       "    <tr style=\"text-align: right;\">\n",
       "      <th></th>\n",
       "      <th>pub_date</th>\n",
       "      <th>headline</th>\n",
       "    </tr>\n",
       "  </thead>\n",
       "  <tbody>\n",
       "    <tr>\n",
       "      <td>0</td>\n",
       "      <td>2019-01-03T00:10:00+0000</td>\n",
       "      <td>Daryl Dragon, of the Captain and Tennille Pop ...</td>\n",
       "    </tr>\n",
       "    <tr>\n",
       "      <td>1</td>\n",
       "      <td>2019-01-02T22:17:38+0000</td>\n",
       "      <td>Where Doulas Calm Nerves and Bridge Cultures D...</td>\n",
       "    </tr>\n",
       "    <tr>\n",
       "      <td>2</td>\n",
       "      <td>2019-01-02T17:00:47+0000</td>\n",
       "      <td>Voting Issues and Gerrymanders Are Now Key Pol...</td>\n",
       "    </tr>\n",
       "    <tr>\n",
       "      <td>3</td>\n",
       "      <td>2019-01-02T18:26:54+0000</td>\n",
       "      <td>Protecting Pregnant Workers</td>\n",
       "    </tr>\n",
       "    <tr>\n",
       "      <td>4</td>\n",
       "      <td>2019-01-02T18:32:59+0000</td>\n",
       "      <td>When Louis C.K. Crossed a Line</td>\n",
       "    </tr>\n",
       "    <tr>\n",
       "      <td>...</td>\n",
       "      <td>...</td>\n",
       "      <td>...</td>\n",
       "    </tr>\n",
       "    <tr>\n",
       "      <td>6972</td>\n",
       "      <td>2019-01-31T20:38:27+0000</td>\n",
       "      <td>Investors in Former Trump-Branded Hotel in Bra...</td>\n",
       "    </tr>\n",
       "    <tr>\n",
       "      <td>6973</td>\n",
       "      <td>2019-01-31T22:00:03+0000</td>\n",
       "      <td>4 Film Series to Catch in N.Y.C. This Weekend</td>\n",
       "    </tr>\n",
       "    <tr>\n",
       "      <td>6974</td>\n",
       "      <td>2019-02-01T06:00:03+0000</td>\n",
       "      <td>What’s on TV Friday: ‘The Lego Movie’ and ‘Vel...</td>\n",
       "    </tr>\n",
       "    <tr>\n",
       "      <td>6975</td>\n",
       "      <td>2019-02-01T08:00:00+0000</td>\n",
       "      <td>Holiday Recipes</td>\n",
       "    </tr>\n",
       "    <tr>\n",
       "      <td>6976</td>\n",
       "      <td>2019-01-31T10:00:01+0000</td>\n",
       "      <td>How to Win an Argument</td>\n",
       "    </tr>\n",
       "  </tbody>\n",
       "</table>\n",
       "<p>6977 rows × 2 columns</p>\n",
       "</div>"
      ],
      "text/plain": [
       "                      pub_date  \\\n",
       "0     2019-01-03T00:10:00+0000   \n",
       "1     2019-01-02T22:17:38+0000   \n",
       "2     2019-01-02T17:00:47+0000   \n",
       "3     2019-01-02T18:26:54+0000   \n",
       "4     2019-01-02T18:32:59+0000   \n",
       "...                        ...   \n",
       "6972  2019-01-31T20:38:27+0000   \n",
       "6973  2019-01-31T22:00:03+0000   \n",
       "6974  2019-02-01T06:00:03+0000   \n",
       "6975  2019-02-01T08:00:00+0000   \n",
       "6976  2019-01-31T10:00:01+0000   \n",
       "\n",
       "                                               headline  \n",
       "0     Daryl Dragon, of the Captain and Tennille Pop ...  \n",
       "1     Where Doulas Calm Nerves and Bridge Cultures D...  \n",
       "2     Voting Issues and Gerrymanders Are Now Key Pol...  \n",
       "3                           Protecting Pregnant Workers  \n",
       "4                        When Louis C.K. Crossed a Line  \n",
       "...                                                 ...  \n",
       "6972  Investors in Former Trump-Branded Hotel in Bra...  \n",
       "6973      4 Film Series to Catch in N.Y.C. This Weekend  \n",
       "6974  What’s on TV Friday: ‘The Lego Movie’ and ‘Vel...  \n",
       "6975                                    Holiday Recipes  \n",
       "6976                             How to Win an Argument  \n",
       "\n",
       "[6977 rows x 2 columns]"
      ]
     },
     "execution_count": 47,
     "metadata": {},
     "output_type": "execute_result"
    }
   ],
   "source": [
    "df"
   ]
  },
  {
   "cell_type": "code",
   "execution_count": null,
   "metadata": {
    "collapsed": true
   },
   "outputs": [],
   "source": []
  }
 ],
 "metadata": {
  "kernelspec": {
   "display_name": "Python 3",
   "language": "python",
   "name": "python3"
  },
  "language_info": {
   "codemirror_mode": {
    "name": "ipython",
    "version": 3
   },
   "file_extension": ".py",
   "mimetype": "text/x-python",
   "name": "python",
   "nbconvert_exporter": "python",
   "pygments_lexer": "ipython3",
   "version": "3.6.2"
  }
 },
 "nbformat": 4,
 "nbformat_minor": 2
}
